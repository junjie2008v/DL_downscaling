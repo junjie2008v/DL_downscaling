{
 "cells": [
  {
   "cell_type": "code",
   "execution_count": 1,
   "metadata": {},
   "outputs": [],
   "source": [
    "# general tools\n",
    "import sys\n",
    "import time\n",
    "from glob import glob\n",
    "\n",
    "# data tools\n",
    "import h5py\n",
    "import numpy as np\n",
    "from random import shuffle\n",
    "from datetime import datetime, timedelta\n",
    "\n",
    "# deep learning tools\n",
    "import tensorflow as tf\n",
    "from tensorflow import keras\n",
    "import tensorflow.keras.backend as K\n",
    "\n",
    "# graph tools\n",
    "import matplotlib.pyplot as plt\n",
    "%matplotlib inline\n",
    "\n",
    "# custom tools\n",
    "sys.path.insert(0, '/glade/u/home/ksha/WORKSPACE/utils/')\n",
    "sys.path.insert(0, '/glade/u/home/ksha/WORKSPACE/DL_downscaling/utils/')\n",
    "sys.path.insert(0, '/glade/u/home/ksha/WORKSPACE/DL_downscaling/')\n",
    "from namelist import *\n",
    "import data_utils as du\n",
    "import graph_utils as gu\n",
    "import verif_utils as vu\n",
    "import model_utils as mu\n",
    "import train_utils as tu"
   ]
  },
  {
   "cell_type": "code",
   "execution_count": 31,
   "metadata": {},
   "outputs": [
    {
     "data": {
      "text/plain": [
       "<module 'model_utils' from '/glade/u/home/ksha/WORKSPACE/DL_downscaling/utils/model_utils.py'>"
      ]
     },
     "execution_count": 31,
     "metadata": {},
     "output_type": "execute_result"
    }
   ],
   "source": [
    "from importlib import reload\n",
    "reload(mu)"
   ]
  },
  {
   "cell_type": "code",
   "execution_count": 3,
   "metadata": {},
   "outputs": [],
   "source": [
    "sea = 'jja'\n",
    "file_path = BATCH_dir\n",
    "model_import_dir = temp_dir"
   ]
  },
  {
   "cell_type": "code",
   "execution_count": 4,
   "metadata": {},
   "outputs": [],
   "source": [
    "input_flag = [False, True, False, False, True, True] # LR T2, HR elev, LR elev\n",
    "output_flag = [True, False, False, False, False, False] # HR T2\n",
    "inout_flag = [True, True, False, False, True, True]\n",
    "labels = ['batch', 'batch'] # input and output labels"
   ]
  },
  {
   "cell_type": "code",
   "execution_count": 5,
   "metadata": {},
   "outputs": [],
   "source": [
    "file_path = BATCH_dir\n",
    "validfiles1 = glob(file_path+'TMEAN_BATCH_64_TSUB_*{}*.npy'.format(sea)) + glob(file_path+'TMEAN_BATCH_96_TSUB_*{}*.npy'.format(sea))\n",
    "validfiles2 = glob(file_path+'TMEAN_BATCH_64_VORI_*{}*.npy'.format(sea)) + glob(file_path+'TMEAN_BATCH_96_VORI_*{}*.npy'.format(sea)) \n",
    "#\n",
    "gen_valid_base1 = tu.grid_grid_gen(validfiles1, labels, input_flag, output_flag)\n",
    "gen_valid_base2 = tu.grid_grid_gen(validfiles2, labels, input_flag, output_flag)\n",
    "#\n",
    "gen_valid_style1 = tu.grid_grid_gen_noise(validfiles1, labels, input_flag, output_flag, 384)\n",
    "gen_valid_style2 = tu.grid_grid_gen_noise(validfiles2, labels, input_flag, output_flag, 384)"
   ]
  },
  {
   "cell_type": "code",
   "execution_count": 6,
   "metadata": {},
   "outputs": [],
   "source": [
    "N_input = 3\n",
    "N_output = 1\n",
    "N = [48, 96, 192, 384]\n",
    "input_size = (None, None, N_input)\n",
    "mapping_size = N[-1]\n",
    "latent_size = N[-1]\n",
    "latent_lev = 4"
   ]
  },
  {
   "cell_type": "code",
   "execution_count": 7,
   "metadata": {},
   "outputs": [],
   "source": [
    "# macros\n",
    "key = 'MIX'\n",
    "lmd = 1e-3\n",
    "pool = False"
   ]
  },
  {
   "cell_type": "code",
   "execution_count": 8,
   "metadata": {},
   "outputs": [],
   "source": [
    "l = [5e-5, 5e-5] # G lr; D lr\n",
    "epochs = 150"
   ]
  },
  {
   "cell_type": "markdown",
   "metadata": {},
   "source": [
    "## UNet baseline"
   ]
  },
  {
   "cell_type": "code",
   "execution_count": 10,
   "metadata": {},
   "outputs": [
    {
     "name": "stdout",
     "output_type": "stream",
     "text": [
      "Import model:\n",
      "/glade/work/ksha/data/Keras/BACKUP/UNET-G3_TMEAN_jja_tune.hdf\n",
      "119/119 [==============================] - 29s 243ms/step - loss: 0.0936\n",
      "236/236 [==============================] - 55s 233ms/step - loss: 0.0262\n"
     ]
    }
   ],
   "source": [
    "W = tu.dummy_loader(model_import_dir+'UNET-G3_TMEAN_jja_tune.hdf')\n",
    "model = mu.UNET(N, input_size, input_stack_num=2, pool=pool, activation=activation)\n",
    "opt_G = keras.optimizers.Adam(lr=0)\n",
    "model.compile(loss=keras.losses.mean_squared_error, optimizer=opt_G)\n",
    "model.set_weights(W)\n",
    "model.evaluate_generator(gen_valid_base1, verbose=1);\n",
    "model.evaluate_generator(gen_valid_base2, verbose=1);"
   ]
  },
  {
   "cell_type": "markdown",
   "metadata": {},
   "source": [
    "## SRGAN baseline (before tuning)"
   ]
  },
  {
   "cell_type": "code",
   "execution_count": 11,
   "metadata": {},
   "outputs": [
    {
     "name": "stdout",
     "output_type": "stream",
     "text": [
      "Import model:\n",
      "/glade/work/ksha/data/Keras/BACKUP/NEO_G_TMEAN_jja.hdf\n",
      "119/119 [==============================] - 28s 237ms/step - loss: 0.0955\n",
      "236/236 [==============================] - 53s 224ms/step - loss: 0.0172\n"
     ]
    }
   ],
   "source": [
    "W = tu.dummy_loader(model_import_dir+'NEO_G_TMEAN_jja.hdf')\n",
    "model = mu.UNET(N, input_size, input_stack_num=2, pool=pool, activation=activation)\n",
    "opt_G = keras.optimizers.Adam(lr=0)\n",
    "model.compile(loss=keras.losses.mean_squared_error, optimizer=opt_G)\n",
    "model.set_weights(W)\n",
    "model.evaluate_generator(gen_valid_base1, verbose=1);\n",
    "model.evaluate_generator(gen_valid_base2, verbose=1);"
   ]
  },
  {
   "cell_type": "markdown",
   "metadata": {},
   "source": [
    "## Style-GAN (before tuning)"
   ]
  },
  {
   "cell_type": "code",
   "execution_count": 19,
   "metadata": {},
   "outputs": [
    {
     "name": "stdout",
     "output_type": "stream",
     "text": [
      "Import model:\n",
      "/glade/work/ksha/data/Keras/BACKUP/SGAN_G_TMEAN_jja.hdf\n",
      "119/119 [==============================] - 26s 222ms/step - loss: 0.0890\n",
      "236/236 [==============================] - 48s 202ms/step - loss: 0.0247\n"
     ]
    }
   ],
   "source": [
    "W = tu.dummy_loader(model_import_dir+'SGAN_G_TMEAN_jja.hdf')\n",
    "model = mu.UNET_STYLE(N, input_size, latent_lev, latent_size, mapping_size, \n",
    "                      pool=pool, activation='leaky', noise=[0.2, 0.1])\n",
    "opt_G = keras.optimizers.Adam(lr=0)\n",
    "model.compile(loss=keras.losses.mean_squared_error, optimizer=opt_G)\n",
    "model.set_weights(W)\n",
    "model.evaluate_generator(gen_valid_style1, verbose=1);\n",
    "model.evaluate_generator(gen_valid_style2, verbose=1);"
   ]
  },
  {
   "cell_type": "markdown",
   "metadata": {},
   "source": [
    "# Latent code creation"
   ]
  },
  {
   "cell_type": "code",
   "execution_count": 9,
   "metadata": {},
   "outputs": [],
   "source": [
    "def mapping_network_fixer(style_model, style_gan_name, trainable=False):\n",
    "    '''\n",
    "    Assuming layers names (and number of nodes) match\n",
    "    '''\n",
    "    W = tu.dummy_loader(style_gan_name)\n",
    "    model = mu.UNET_STYLE(N, input_size, latent_lev, latent_size, mapping_size, \n",
    "                          pool=pool, activation='leaky', noise=[0.2, 0.1])\n",
    "    model.set_weights(W)\n",
    "    W_mapping_network = []\n",
    "    for layer in model.layers:\n",
    "        if layer.name[:3] == 'map':\n",
    "            W_mapping_network += layer.get_weights()\n",
    "    \n",
    "    if ~trainable:\n",
    "        style_model.trainable = False\n",
    "        for layer in style_model.layers:\n",
    "            layer.trainable = False\n",
    "    opt_G = keras.optimizers.Adam(lr=0)\n",
    "    style_model.compile(loss=keras.losses.mean_squared_error, optimizer=opt_G)\n",
    "    style_model.set_weights(W_mapping_network)\n",
    "    return style_model"
   ]
  },
  {
   "cell_type": "code",
   "execution_count": 39,
   "metadata": {},
   "outputs": [
    {
     "name": "stdout",
     "output_type": "stream",
     "text": [
      "Import model:\n",
      "/glade/work/ksha/data/Keras/BACKUP/SGAN_G_TMEAN_jja.hdf\n",
      "Import model:\n",
      "/glade/work/ksha/data/Keras/BACKUP/SGAN_G_ELEV_jja.hdf\n"
     ]
    }
   ],
   "source": [
    "style_model_base = mu.STYLE_MAP(latent_lev, latent_size, mapping_size, activation='leaky')\n",
    "style_model_base = mapping_network_fixer(style_model_base, \n",
    "                                         model_import_dir+'SGAN_G_TMEAN_jja.hdf', \n",
    "                                         trainable=False)\n",
    "\n",
    "style_model_elev = mu.STYLE_MAP(latent_lev, latent_size, mapping_size, activation='leaky')\n",
    "style_model_elev = mapping_network_fixer(style_model_elev, \n",
    "                                         model_import_dir+'SGAN_G_ELEV_jja.hdf', \n",
    "                                         trainable=False)"
   ]
  },
  {
   "cell_type": "markdown",
   "metadata": {},
   "source": [
    "## Testing original W"
   ]
  },
  {
   "cell_type": "code",
   "execution_count": 10,
   "metadata": {},
   "outputs": [],
   "source": [
    "class gan_predict(keras.utils.Sequence):\n",
    "    def __init__(self, filename, labels, input_flag, output_flag, sampling):\n",
    "\n",
    "        self.filename = filename\n",
    "        self.labels = labels\n",
    "        self.input_flag = input_flag\n",
    "        self.output_flag = output_flag\n",
    "        self.sampling = sampling\n",
    "        self.filenum = len(self.filename)\n",
    "    def __len__(self):\n",
    "        return self.filenum\n",
    "    \n",
    "    def __getitem__(self, index):\n",
    "        temp_name = self.filename[index]\n",
    "        return self.__readfile__(temp_name, self.labels, self.input_flag, self.output_flag, self.sampling)\n",
    "    \n",
    "    def __readfile__(self, temp_name, labels, input_flag, output_flag, sampling):\n",
    "        \n",
    "        data_temp = np.load(temp_name, allow_pickle=True)\n",
    "        X = data_temp[()][labels[0]][..., input_flag] # channel last\n",
    "        Y = data_temp[()][labels[1]][..., output_flag]\n",
    "        return sampling+[X], [Y]"
   ]
  },
  {
   "cell_type": "code",
   "execution_count": 11,
   "metadata": {},
   "outputs": [],
   "source": [
    "def dscale_network_fixer(dscale_model, dscale_gan_name, trainable=False):\n",
    "    W = tu.dummy_loader(dscale_gan_name)\n",
    "    model = mu.UNET_STYLE(N, input_size, latent_lev, latent_size, mapping_size, \n",
    "                          pool=pool, activation='leaky', noise=[False, False])\n",
    "    model.set_weights(W)\n",
    "    W_unet = []\n",
    "    for layer in model.layers:\n",
    "        if layer.name[:4] == 'unet':\n",
    "            W_unet += layer.get_weights()\n",
    "    dscale_model.set_weights(W_unet)\n",
    "    if ~trainable:\n",
    "        dscale_model.trainable = False\n",
    "        for layer in dscale_model.layers:\n",
    "            layer.trainable = False\n",
    "    return dscale_model\n",
    "    "
   ]
  },
  {
   "cell_type": "code",
   "execution_count": 42,
   "metadata": {},
   "outputs": [
    {
     "name": "stdout",
     "output_type": "stream",
     "text": [
      "Import model:\n",
      "/glade/work/ksha/data/Keras/BACKUP/SGAN_G_TMEAN_jja.hdf\n"
     ]
    }
   ],
   "source": [
    "model_dscale = mu.UNET_MAP(N, input_size, latent_lev, latent_size, mapping_size, \n",
    "                           pool=pool, activation='leaky', noise=[False, False])\n",
    "\n",
    "opt_G = keras.optimizers.Adam(lr=0)\n",
    "model_dscale.compile(loss=keras.losses.mean_squared_error, optimizer=opt_G)\n",
    "model_dscale = dscale_network_fixer(model_dscale,\n",
    "                                    model_import_dir+'SGAN_G_TMEAN_jja.hdf',\n",
    "                                    trainable=False)"
   ]
  },
  {
   "cell_type": "code",
   "execution_count": 43,
   "metadata": {},
   "outputs": [],
   "source": [
    "Z = np.random.normal(0.0, 1.0, size=[5000, latent_size])\n",
    "W_base = style_model_base.predict(Z)\n",
    "W_elev = style_model_elev.predict(Z)\n",
    "\n",
    "W_base_mean = np.mean(W_base, axis=0)\n",
    "W_elev_mean = np.mean(W_elev, axis=0)\n",
    "\n",
    "W_base_rep = np.repeat(W_base_mean[None, :], 200, axis=0)\n",
    "W_elev_rep = np.repeat(W_elev_mean[None, :], 200, axis=0)"
   ]
  },
  {
   "cell_type": "code",
   "execution_count": 45,
   "metadata": {},
   "outputs": [
    {
     "name": "stdout",
     "output_type": "stream",
     "text": [
      "119/119 [==============================] - 22s 182ms/step - loss: 0.0887\n",
      "236/236 [==============================] - 44s 188ms/step - loss: 0.0243\n"
     ]
    }
   ],
   "source": [
    "gen_valid_base1 = gan_predict(validfiles1, labels, input_flag, output_flag, [W_base_rep])\n",
    "gen_valid_base2 = gan_predict(validfiles2, labels, input_flag, output_flag, [W_base_rep])\n",
    "model_dscale.evaluate_generator(gen_valid_base1, verbose=1);\n",
    "model_dscale.evaluate_generator(gen_valid_base2, verbose=1);"
   ]
  },
  {
   "cell_type": "markdown",
   "metadata": {},
   "source": [
    "## Mixing W"
   ]
  },
  {
   "cell_type": "code",
   "execution_count": 46,
   "metadata": {},
   "outputs": [],
   "source": [
    "from model_utils import *"
   ]
  },
  {
   "cell_type": "code",
   "execution_count": 47,
   "metadata": {},
   "outputs": [],
   "source": [
    "def UNET_MAP_SWAP(N, input_size, latent_lev, latent_size, mapping_size, pool=True, activation='relu', noise=[0.2, 0.1]):\n",
    "    # mapping network #1\n",
    "    STY1 = keras.layers.Input(shape=[latent_size], name='mapping_in1')\n",
    "    STY2 = keras.layers.Input(shape=[latent_size], name='mapping_in2')\n",
    "    # main UNet\n",
    "    IN3 = keras.layers.Input(input_size, name='unet_in')\n",
    "    X_en1 = CONV_stack(IN3, N[0], kernel_size=3, stack_num=2, activation=activation, name='unet_left0')\n",
    "    X_en2 = UNET_left(X_en1, N[1], pool=pool, activation=activation, name='unet_left1')\n",
    "    X_en3 = UNET_left(X_en2, N[2], pool=pool, activation=activation, name='unet_left2')\n",
    "    \n",
    "    X_de4 = UNET_left_style(X_en3, STY1, N[3], pool=pool, activation=activation, noise=noise[0], name='unet_bottom')\n",
    "    X_de3 = UNET_right_style(X_de4, X_en3, STY2, N[2], activation=activation, noise=noise[1], name='unet_right2')\n",
    "    X_de2 = UNET_right_style(X_de3, X_en2, STY2, N[1], activation=activation, noise=noise[1], name='unet_right1')\n",
    "    X_de1 = UNET_right_style(X_de2, X_en1, STY2, N[0], activation=activation, noise=noise[1], name='unet_right0')\n",
    "    # output\n",
    "    OUT = UNET_out_style(X_de1, STY2, activation=activation, name='unet_out')\n",
    "    OUT = keras.layers.Conv2D(1, 1, activation=keras.activations.linear, padding='same', name='unet_exit')(OUT)\n",
    "    G_style = keras.models.Model(inputs=[STY1, STY2, IN3], outputs=[OUT])\n",
    "    return G_style"
   ]
  },
  {
   "cell_type": "code",
   "execution_count": 48,
   "metadata": {},
   "outputs": [
    {
     "name": "stdout",
     "output_type": "stream",
     "text": [
      "Import model:\n",
      "/glade/work/ksha/data/Keras/BACKUP/SGAN_G_TMEAN_jja.hdf\n"
     ]
    }
   ],
   "source": [
    "model_mix = UNET_MAP_SWAP(N, input_size, latent_lev, latent_size, mapping_size, \n",
    "                             pool=pool, activation='leaky', noise=[False, False])\n",
    "\n",
    "opt_G = keras.optimizers.Adam(lr=0)\n",
    "model_mix.compile(loss=keras.losses.mean_squared_error, optimizer=opt_G)\n",
    "model_mix = dscale_network_fixer(model_mix, model_import_dir+'SGAN_G_TMEAN_jja.hdf',\n",
    "                                  trainable=False)"
   ]
  },
  {
   "cell_type": "markdown",
   "metadata": {},
   "source": [
    "**Replace**"
   ]
  },
  {
   "cell_type": "code",
   "execution_count": 49,
   "metadata": {},
   "outputs": [
    {
     "name": "stdout",
     "output_type": "stream",
     "text": [
      "119/119 [==============================] - 21s 181ms/step - loss: 0.0922\n",
      "236/236 [==============================] - 44s 187ms/step - loss: 0.0266\n"
     ]
    }
   ],
   "source": [
    "gen_valid_mix1 = gan_predict(validfiles1, labels, input_flag, output_flag, [W_elev_rep, W_base_rep])\n",
    "gen_valid_mix2 = gan_predict(validfiles2, labels, input_flag, output_flag, [W_elev_rep, W_base_rep])\n",
    "model_mix.evaluate_generator(gen_valid_mix1, verbose=1);\n",
    "model_mix.evaluate_generator(gen_valid_mix2, verbose=1);"
   ]
  },
  {
   "cell_type": "markdown",
   "metadata": {},
   "source": [
    "**other failed tests**"
   ]
  },
  {
   "cell_type": "code",
   "execution_count": 50,
   "metadata": {},
   "outputs": [],
   "source": [
    "# #\n",
    "# W_mix = np.copy(W_base_mean)\n",
    "# flag = W_mix==0\n",
    "# W_mix[flag] = W_elev_mean[flag]\n",
    "# #\n",
    "# W_mix = 0.5*(W_elev_mean+W_base_mean)\n",
    "# #\n",
    "# W_mix = np.max(np.concatenate((W_base_mean[..., None], W_elev_mean[..., None]), axis=-1), axis=-1)\n",
    "# #\n",
    "# W_mix = np.min(np.concatenate((W_base_mean[..., None], W_elev_mean[..., None]), axis=-1), axis=-1)\n",
    "\n",
    "# gen_valid_mix1 = gan_predict(validfiles1, labels, input_flag, output_flag, [W_mix, W_base_mean])\n",
    "# gen_valid_mix2 = gan_predict(validfiles2, labels, input_flag, output_flag, [W_mix, W_base_mean])\n",
    "# model_mix.evaluate_generator(gen_valid_mix1, verbose=1);\n",
    "# model_mix.evaluate_generator(gen_valid_mix2, verbose=1);"
   ]
  },
  {
   "cell_type": "markdown",
   "metadata": {},
   "source": [
    "**zero remove (improved?)**"
   ]
  },
  {
   "cell_type": "code",
   "execution_count": 21,
   "metadata": {},
   "outputs": [
    {
     "data": {
      "text/plain": [
       "1.5447198"
      ]
     },
     "execution_count": 21,
     "metadata": {},
     "output_type": "execute_result"
    }
   ],
   "source": [
    "W_base_mean[248]"
   ]
  },
  {
   "cell_type": "code",
   "execution_count": 144,
   "metadata": {},
   "outputs": [
    {
     "name": "stdout",
     "output_type": "stream",
     "text": [
      "zero out 271 vectors\n",
      "119/119 [==============================] - 27s 226ms/step - loss: 0.0921\n",
      "236/236 [==============================] - 53s 224ms/step - loss: 0.0251\n"
     ]
    }
   ],
   "source": [
    "flag_sparse = np.logical_or(W_base_mean==0, W_elev_mean==0)\n",
    "print('zero out {} vectors'.format(np.sum(flag_sparse)))\n",
    "W_mix = np.copy(W_base[:200, :])\n",
    "W_mix[:, flag_sparse] = 0\n",
    "\n",
    "gen_valid_mix1 = gan_predict(validfiles1, labels, input_flag, output_flag, [W_mix, W_base_rep])\n",
    "gen_valid_mix2 = gan_predict(validfiles2, labels, input_flag, output_flag, [W_mix, W_base_rep])\n",
    "model_mix.evaluate_generator(gen_valid_mix1, verbose=1);\n",
    "model_mix.evaluate_generator(gen_valid_mix2, verbose=1);"
   ]
  },
  {
   "cell_type": "markdown",
   "metadata": {},
   "source": [
    "**The joint of the two latent space**"
   ]
  },
  {
   "cell_type": "code",
   "execution_count": 61,
   "metadata": {},
   "outputs": [],
   "source": [
    "# W_mix = np.copy(W_base)\n",
    "# W_mix[:, flag_sparse] = 0\n",
    "# C_mix = np.cov(W_mix, rowvar=0)\n",
    "# C_base = np.cov(W_base, rowvar=0)\n",
    "# C_elev = np.cov(W_elev, rowvar=0)\n",
    "# mu_mix = np.copy(W_base_mean)\n",
    "# mu_mix[flag_sparse] = 0"
   ]
  },
  {
   "cell_type": "code",
   "execution_count": 69,
   "metadata": {},
   "outputs": [],
   "source": [
    "C_base = np.cov(W_base, rowvar=0)\n",
    "C_elev = np.cov(W_elev, rowvar=0)\n",
    "\n",
    "flag_sparse = np.logical_or(W_base_mean==0, W_elev_mean==0)\n",
    "mu_base = np.copy(W_base_mean)\n",
    "mu_base[flag_sparse] = 0"
   ]
  },
  {
   "cell_type": "code",
   "execution_count": 138,
   "metadata": {},
   "outputs": [],
   "source": [
    "W_base_fake = np.random.multivariate_normal(mu_base, C_base, size=100000)\n",
    "W_elev_fake = np.random.multivariate_normal(mu_base, C_elev, size=100000)\n",
    "\n",
    "base_p99 = np.percentile(W_base_fake, 99, axis=0); base_p99[flag_sparse] = 0\n",
    "base_p01 = np.percentile(W_base_fake, 1, axis=0); base_p01[flag_sparse] = 0\n",
    "\n",
    "elev_p99 = np.percentile(W_elev_fake, 99, axis=0); elev_p99[flag_sparse] = 0\n",
    "elev_p01 = np.percentile(W_elev_fake, 1, axis=0); elev_p01[flag_sparse] = 0"
   ]
  },
  {
   "cell_type": "code",
   "execution_count": 139,
   "metadata": {},
   "outputs": [],
   "source": [
    "mix_p01 = np.max(np.concatenate((base_p01[..., None], elev_p01[..., None]), axis=-1), axis=-1)\n",
    "mix_p99 = np.min(np.concatenate((base_p99[..., None], elev_p99[..., None]), axis=-1), axis=-1)"
   ]
  },
  {
   "cell_type": "code",
   "execution_count": 142,
   "metadata": {},
   "outputs": [],
   "source": [
    "W_mix = 0.5*(mix_p99+mix_p01)\n",
    "W_mix[flag_sparse] = 0\n",
    "W_mix_rep = np.repeat(W_mix[None, :], 200, axis=0)"
   ]
  },
  {
   "cell_type": "code",
   "execution_count": 143,
   "metadata": {},
   "outputs": [
    {
     "name": "stdout",
     "output_type": "stream",
     "text": [
      "119/119 [==============================] - 25s 212ms/step - loss: 0.0921\n",
      "236/236 [==============================] - 49s 206ms/step - loss: 0.0251\n"
     ]
    }
   ],
   "source": [
    "gen_valid_mix1 = gan_predict(validfiles1, labels, input_flag, output_flag, [W_mix_rep, W_base_rep])\n",
    "gen_valid_mix2 = gan_predict(validfiles2, labels, input_flag, output_flag, [W_mix_rep, W_base_rep])\n",
    "model_mix.evaluate_generator(gen_valid_mix1, verbose=1);\n",
    "model_mix.evaluate_generator(gen_valid_mix2, verbose=1);"
   ]
  },
  {
   "cell_type": "code",
   "execution_count": 32,
   "metadata": {},
   "outputs": [],
   "source": [
    "test = mu.UNET_MAP_MIX(N, input_size, latent_lev, latent_size, mapping_size, \n",
    "                            pool=pool, activation='leaky', noise=[False, False])"
   ]
  },
  {
   "cell_type": "code",
   "execution_count": 33,
   "metadata": {},
   "outputs": [
    {
     "name": "stdout",
     "output_type": "stream",
     "text": [
      "Model: \"model_4\"\n",
      "__________________________________________________________________________________________________\n",
      "Layer (type)                    Output Shape         Param #     Connected to                     \n",
      "==================================================================================================\n",
      "unet_in (InputLayer)            [(None, None, None,  0                                            \n",
      "__________________________________________________________________________________________________\n",
      "unet_left0_stack0_conv (Conv2D) (None, None, None, 4 1296        unet_in[0][0]                    \n",
      "__________________________________________________________________________________________________\n",
      "unet_left0_stack0_bn (BatchNorm (None, None, None, 4 192         unet_left0_stack0_conv[0][0]     \n",
      "__________________________________________________________________________________________________\n",
      "unet_left0_stack0_leaky (LeakyR (None, None, None, 4 0           unet_left0_stack0_bn[0][0]       \n",
      "__________________________________________________________________________________________________\n",
      "unet_left0_stack1_conv (Conv2D) (None, None, None, 4 20736       unet_left0_stack0_leaky[0][0]    \n",
      "__________________________________________________________________________________________________\n",
      "unet_left0_stack1_bn (BatchNorm (None, None, None, 4 192         unet_left0_stack1_conv[0][0]     \n",
      "__________________________________________________________________________________________________\n",
      "unet_left0_stack1_leaky (LeakyR (None, None, None, 4 0           unet_left0_stack1_bn[0][0]       \n",
      "__________________________________________________________________________________________________\n",
      "unet_left1_stride_conv (Conv2D) (None, None, None, 9 18432       unet_left0_stack1_leaky[0][0]    \n",
      "__________________________________________________________________________________________________\n",
      "unet_left1_stride_conv_bn (Batc (None, None, None, 9 384         unet_left1_stride_conv[0][0]     \n",
      "__________________________________________________________________________________________________\n",
      "unet_left1_stride_conv_leaky (L (None, None, None, 9 0           unet_left1_stride_conv_bn[0][0]  \n",
      "__________________________________________________________________________________________________\n",
      "unet_left1_stack0_conv (Conv2D) (None, None, None, 9 82944       unet_left1_stride_conv_leaky[0][0\n",
      "__________________________________________________________________________________________________\n",
      "unet_left1_stack0_bn (BatchNorm (None, None, None, 9 384         unet_left1_stack0_conv[0][0]     \n",
      "__________________________________________________________________________________________________\n",
      "unet_left1_stack0_leaky (LeakyR (None, None, None, 9 0           unet_left1_stack0_bn[0][0]       \n",
      "__________________________________________________________________________________________________\n",
      "unet_left2_stride_conv (Conv2D) (None, None, None, 1 73728       unet_left1_stack0_leaky[0][0]    \n",
      "__________________________________________________________________________________________________\n",
      "unet_left2_stride_conv_bn (Batc (None, None, None, 1 768         unet_left2_stride_conv[0][0]     \n",
      "__________________________________________________________________________________________________\n",
      "unet_left2_stride_conv_leaky (L (None, None, None, 1 0           unet_left2_stride_conv_bn[0][0]  \n",
      "__________________________________________________________________________________________________\n",
      "unet_left2_stack0_conv (Conv2D) (None, None, None, 1 331776      unet_left2_stride_conv_leaky[0][0\n",
      "__________________________________________________________________________________________________\n",
      "mapping_in1 (InputLayer)        [(None, 384)]        0                                            \n",
      "__________________________________________________________________________________________________\n",
      "mapping_in2 (InputLayer)        [(None, 384)]        0                                            \n",
      "__________________________________________________________________________________________________\n",
      "unet_left2_stack0_bn (BatchNorm (None, None, None, 1 768         unet_left2_stack0_conv[0][0]     \n",
      "__________________________________________________________________________________________________\n",
      "reshape_74 (Reshape)            (None, 1, 384)       0           mapping_in1[0][0]                \n",
      "__________________________________________________________________________________________________\n",
      "reshape_75 (Reshape)            (None, 1, 384)       0           mapping_in2[0][0]                \n",
      "__________________________________________________________________________________________________\n",
      "unet_left2_stack0_leaky (LeakyR (None, None, None, 1 0           unet_left2_stack0_bn[0][0]       \n",
      "__________________________________________________________________________________________________\n",
      "concatenate_18 (Concatenate)    (None, 2, 384)       0           reshape_74[0][0]                 \n",
      "                                                                 reshape_75[0][0]                 \n",
      "__________________________________________________________________________________________________\n",
      "unet_bottom_stride_conv (Conv2D (None, None, None, 3 294912      unet_left2_stack0_leaky[0][0]    \n",
      "__________________________________________________________________________________________________\n",
      "mix0_dense (LocallyConnected1D) (None, 1, 384)       295296      concatenate_18[0][0]             \n",
      "__________________________________________________________________________________________________\n",
      "unet_bottom_stride_conv_bn (Bat (None, None, None, 3 1536        unet_bottom_stride_conv[0][0]    \n",
      "__________________________________________________________________________________________________\n",
      "mix0_leaky (LeakyReLU)          (None, 1, 384)       0           mix0_dense[0][0]                 \n",
      "__________________________________________________________________________________________________\n",
      "unet_bottom_stride_conv_leaky ( (None, None, None, 3 0           unet_bottom_stride_conv_bn[0][0] \n",
      "__________________________________________________________________________________________________\n",
      "unet_bottom_AdaIN_b (Dense)     (None, 1, 384)       147840      mix0_leaky[0][0]                 \n",
      "__________________________________________________________________________________________________\n",
      "unet_bottom_AdaIN_g (Dense)     (None, 1, 384)       147840      mix0_leaky[0][0]                 \n",
      "__________________________________________________________________________________________________\n",
      "reshape_76 (Reshape)            (None, 1, 384)       0           mapping_in1[0][0]                \n",
      "__________________________________________________________________________________________________\n",
      "reshape_77 (Reshape)            (None, 1, 384)       0           mapping_in2[0][0]                \n",
      "__________________________________________________________________________________________________\n",
      "unet_bottom_conv (Conv2D)       (None, None, None, 3 1327104     unet_bottom_stride_conv_leaky[0][\n",
      "__________________________________________________________________________________________________\n",
      "reshape_84 (Reshape)            (None, 1, 1, 384)    0           unet_bottom_AdaIN_b[0][0]        \n",
      "__________________________________________________________________________________________________\n",
      "reshape_85 (Reshape)            (None, 1, 1, 384)    0           unet_bottom_AdaIN_g[0][0]        \n",
      "__________________________________________________________________________________________________\n",
      "concatenate_19 (Concatenate)    (None, 2, 384)       0           reshape_76[0][0]                 \n",
      "                                                                 reshape_77[0][0]                 \n",
      "__________________________________________________________________________________________________\n",
      "ada_in_32 (AdaIN)               (None, None, None, 3 0           unet_bottom_conv[0][0]           \n",
      "                                                                 reshape_84[0][0]                 \n",
      "                                                                 reshape_85[0][0]                 \n",
      "__________________________________________________________________________________________________\n",
      "mix1_dense (LocallyConnected1D) (None, 1, 384)       295296      concatenate_19[0][0]             \n",
      "__________________________________________________________________________________________________\n",
      "unet_bottom_leaky0 (LeakyReLU)  (None, None, None, 3 0           ada_in_32[0][0]                  \n",
      "__________________________________________________________________________________________________\n",
      "mix1_leaky (LeakyReLU)          (None, 1, 384)       0           mix1_dense[0][0]                 \n",
      "__________________________________________________________________________________________________\n",
      "unet_right2_trans_conv (Conv2DT (None, None, None, 1 663744      unet_bottom_leaky0[0][0]         \n",
      "__________________________________________________________________________________________________\n",
      "unet_right2_AdaIN0_b (Dense)    (None, 1, 192)       73920       mix1_leaky[0][0]                 \n",
      "__________________________________________________________________________________________________\n",
      "unet_right2_AdaIN0_g (Dense)    (None, 1, 192)       73920       mix1_leaky[0][0]                 \n",
      "__________________________________________________________________________________________________\n",
      "unet_right2_conv0 (Conv2D)      (None, None, None, 1 331776      unet_right2_trans_conv[0][0]     \n",
      "__________________________________________________________________________________________________\n",
      "reshape_86 (Reshape)            (None, 1, 1, 192)    0           unet_right2_AdaIN0_b[0][0]       \n",
      "__________________________________________________________________________________________________\n",
      "reshape_87 (Reshape)            (None, 1, 1, 192)    0           unet_right2_AdaIN0_g[0][0]       \n",
      "__________________________________________________________________________________________________\n",
      "ada_in_33 (AdaIN)               (None, None, None, 1 0           unet_right2_conv0[0][0]          \n",
      "                                                                 reshape_86[0][0]                 \n",
      "                                                                 reshape_87[0][0]                 \n",
      "__________________________________________________________________________________________________\n",
      "unet_right2_leaky0 (LeakyReLU)  (None, None, None, 1 0           ada_in_33[0][0]                  \n",
      "__________________________________________________________________________________________________\n",
      "concatenate_23 (Concatenate)    (None, None, None, 3 0           unet_left2_stack0_leaky[0][0]    \n",
      "                                                                 unet_right2_leaky0[0][0]         \n",
      "__________________________________________________________________________________________________\n",
      "unet_right2_AdaIN1_b (Dense)    (None, 1, 192)       73920       mix1_leaky[0][0]                 \n",
      "__________________________________________________________________________________________________\n",
      "unet_right2_AdaIN1_g (Dense)    (None, 1, 192)       73920       mix1_leaky[0][0]                 \n",
      "__________________________________________________________________________________________________\n",
      "reshape_78 (Reshape)            (None, 1, 384)       0           mapping_in1[0][0]                \n",
      "__________________________________________________________________________________________________\n",
      "reshape_79 (Reshape)            (None, 1, 384)       0           mapping_in2[0][0]                \n",
      "__________________________________________________________________________________________________\n",
      "unet_right2_conv1 (Conv2D)      (None, None, None, 1 663552      concatenate_23[0][0]             \n",
      "__________________________________________________________________________________________________\n",
      "reshape_88 (Reshape)            (None, 1, 1, 192)    0           unet_right2_AdaIN1_b[0][0]       \n",
      "__________________________________________________________________________________________________\n",
      "reshape_89 (Reshape)            (None, 1, 1, 192)    0           unet_right2_AdaIN1_g[0][0]       \n",
      "__________________________________________________________________________________________________\n",
      "concatenate_20 (Concatenate)    (None, 2, 384)       0           reshape_78[0][0]                 \n",
      "                                                                 reshape_79[0][0]                 \n",
      "__________________________________________________________________________________________________\n",
      "ada_in_34 (AdaIN)               (None, None, None, 1 0           unet_right2_conv1[0][0]          \n",
      "                                                                 reshape_88[0][0]                 \n",
      "                                                                 reshape_89[0][0]                 \n",
      "__________________________________________________________________________________________________\n",
      "mix2_dense (LocallyConnected1D) (None, 1, 384)       295296      concatenate_20[0][0]             \n",
      "__________________________________________________________________________________________________\n",
      "unet_right2_leaky1 (LeakyReLU)  (None, None, None, 1 0           ada_in_34[0][0]                  \n",
      "__________________________________________________________________________________________________\n",
      "mix2_leaky (LeakyReLU)          (None, 1, 384)       0           mix2_dense[0][0]                 \n",
      "__________________________________________________________________________________________________\n",
      "unet_right1_trans_conv (Conv2DT (None, None, None, 9 165984      unet_right2_leaky1[0][0]         \n",
      "__________________________________________________________________________________________________\n",
      "unet_right1_AdaIN0_b (Dense)    (None, 1, 96)        36960       mix2_leaky[0][0]                 \n",
      "__________________________________________________________________________________________________\n",
      "unet_right1_AdaIN0_g (Dense)    (None, 1, 96)        36960       mix2_leaky[0][0]                 \n",
      "__________________________________________________________________________________________________\n",
      "unet_right1_conv0 (Conv2D)      (None, None, None, 9 82944       unet_right1_trans_conv[0][0]     \n",
      "__________________________________________________________________________________________________\n",
      "reshape_90 (Reshape)            (None, 1, 1, 96)     0           unet_right1_AdaIN0_b[0][0]       \n",
      "__________________________________________________________________________________________________\n",
      "reshape_91 (Reshape)            (None, 1, 1, 96)     0           unet_right1_AdaIN0_g[0][0]       \n",
      "__________________________________________________________________________________________________\n",
      "ada_in_35 (AdaIN)               (None, None, None, 9 0           unet_right1_conv0[0][0]          \n",
      "                                                                 reshape_90[0][0]                 \n",
      "                                                                 reshape_91[0][0]                 \n",
      "__________________________________________________________________________________________________\n",
      "unet_right1_leaky0 (LeakyReLU)  (None, None, None, 9 0           ada_in_35[0][0]                  \n",
      "__________________________________________________________________________________________________\n",
      "concatenate_24 (Concatenate)    (None, None, None, 1 0           unet_left1_stack0_leaky[0][0]    \n",
      "                                                                 unet_right1_leaky0[0][0]         \n",
      "__________________________________________________________________________________________________\n",
      "unet_right1_AdaIN1_b (Dense)    (None, 1, 96)        36960       mix2_leaky[0][0]                 \n",
      "__________________________________________________________________________________________________\n",
      "unet_right1_AdaIN1_g (Dense)    (None, 1, 96)        36960       mix2_leaky[0][0]                 \n",
      "__________________________________________________________________________________________________\n",
      "reshape_80 (Reshape)            (None, 1, 384)       0           mapping_in1[0][0]                \n",
      "__________________________________________________________________________________________________\n",
      "reshape_81 (Reshape)            (None, 1, 384)       0           mapping_in2[0][0]                \n",
      "__________________________________________________________________________________________________\n",
      "unet_right1_conv1 (Conv2D)      (None, None, None, 9 165888      concatenate_24[0][0]             \n",
      "__________________________________________________________________________________________________\n",
      "reshape_92 (Reshape)            (None, 1, 1, 96)     0           unet_right1_AdaIN1_b[0][0]       \n",
      "__________________________________________________________________________________________________\n",
      "reshape_93 (Reshape)            (None, 1, 1, 96)     0           unet_right1_AdaIN1_g[0][0]       \n",
      "__________________________________________________________________________________________________\n",
      "concatenate_21 (Concatenate)    (None, 2, 384)       0           reshape_80[0][0]                 \n",
      "                                                                 reshape_81[0][0]                 \n",
      "__________________________________________________________________________________________________\n",
      "ada_in_36 (AdaIN)               (None, None, None, 9 0           unet_right1_conv1[0][0]          \n",
      "                                                                 reshape_92[0][0]                 \n",
      "                                                                 reshape_93[0][0]                 \n",
      "__________________________________________________________________________________________________\n",
      "mix3_dense (LocallyConnected1D) (None, 1, 384)       295296      concatenate_21[0][0]             \n",
      "__________________________________________________________________________________________________\n",
      "unet_right1_leaky1 (LeakyReLU)  (None, None, None, 9 0           ada_in_36[0][0]                  \n",
      "__________________________________________________________________________________________________\n",
      "mix3_leaky (LeakyReLU)          (None, 1, 384)       0           mix3_dense[0][0]                 \n",
      "__________________________________________________________________________________________________\n",
      "unet_right0_trans_conv (Conv2DT (None, None, None, 4 41520       unet_right1_leaky1[0][0]         \n",
      "__________________________________________________________________________________________________\n",
      "unet_right0_AdaIN0_b (Dense)    (None, 1, 48)        18480       mix3_leaky[0][0]                 \n",
      "__________________________________________________________________________________________________\n",
      "unet_right0_AdaIN0_g (Dense)    (None, 1, 48)        18480       mix3_leaky[0][0]                 \n",
      "__________________________________________________________________________________________________\n",
      "unet_right0_conv0 (Conv2D)      (None, None, None, 4 20736       unet_right0_trans_conv[0][0]     \n",
      "__________________________________________________________________________________________________\n",
      "reshape_94 (Reshape)            (None, 1, 1, 48)     0           unet_right0_AdaIN0_b[0][0]       \n",
      "__________________________________________________________________________________________________\n",
      "reshape_95 (Reshape)            (None, 1, 1, 48)     0           unet_right0_AdaIN0_g[0][0]       \n",
      "__________________________________________________________________________________________________\n",
      "ada_in_37 (AdaIN)               (None, None, None, 4 0           unet_right0_conv0[0][0]          \n",
      "                                                                 reshape_94[0][0]                 \n",
      "                                                                 reshape_95[0][0]                 \n",
      "__________________________________________________________________________________________________\n",
      "unet_right0_leaky0 (LeakyReLU)  (None, None, None, 4 0           ada_in_37[0][0]                  \n",
      "__________________________________________________________________________________________________\n",
      "reshape_82 (Reshape)            (None, 1, 384)       0           mapping_in1[0][0]                \n",
      "__________________________________________________________________________________________________\n",
      "reshape_83 (Reshape)            (None, 1, 384)       0           mapping_in2[0][0]                \n",
      "__________________________________________________________________________________________________\n",
      "concatenate_25 (Concatenate)    (None, None, None, 9 0           unet_left0_stack1_leaky[0][0]    \n",
      "                                                                 unet_right0_leaky0[0][0]         \n",
      "__________________________________________________________________________________________________\n",
      "unet_right0_AdaIN1_b (Dense)    (None, 1, 48)        18480       mix3_leaky[0][0]                 \n",
      "__________________________________________________________________________________________________\n",
      "unet_right0_AdaIN1_g (Dense)    (None, 1, 48)        18480       mix3_leaky[0][0]                 \n",
      "__________________________________________________________________________________________________\n",
      "concatenate_22 (Concatenate)    (None, 2, 384)       0           reshape_82[0][0]                 \n",
      "                                                                 reshape_83[0][0]                 \n",
      "__________________________________________________________________________________________________\n",
      "unet_right0_conv1 (Conv2D)      (None, None, None, 4 41472       concatenate_25[0][0]             \n",
      "__________________________________________________________________________________________________\n",
      "reshape_96 (Reshape)            (None, 1, 1, 48)     0           unet_right0_AdaIN1_b[0][0]       \n",
      "__________________________________________________________________________________________________\n",
      "reshape_97 (Reshape)            (None, 1, 1, 48)     0           unet_right0_AdaIN1_g[0][0]       \n",
      "__________________________________________________________________________________________________\n",
      "mix4_dense (LocallyConnected1D) (None, 1, 384)       295296      concatenate_22[0][0]             \n",
      "__________________________________________________________________________________________________\n",
      "ada_in_38 (AdaIN)               (None, None, None, 4 0           unet_right0_conv1[0][0]          \n",
      "                                                                 reshape_96[0][0]                 \n",
      "                                                                 reshape_97[0][0]                 \n",
      "__________________________________________________________________________________________________\n",
      "mix4_leaky (LeakyReLU)          (None, 1, 384)       0           mix4_dense[0][0]                 \n",
      "__________________________________________________________________________________________________\n",
      "unet_right0_leaky1 (LeakyReLU)  (None, None, None, 4 0           ada_in_38[0][0]                  \n",
      "__________________________________________________________________________________________________\n",
      "unet_out_AdaIN_b (Dense)        (None, 1, 2)         770         mix4_leaky[0][0]                 \n",
      "__________________________________________________________________________________________________\n",
      "unet_out_AdaIN_g (Dense)        (None, 1, 2)         770         mix4_leaky[0][0]                 \n",
      "__________________________________________________________________________________________________\n",
      "unet_out_conv (Conv2D)          (None, None, None, 2 864         unet_right0_leaky1[0][0]         \n",
      "__________________________________________________________________________________________________\n",
      "reshape_98 (Reshape)            (None, 1, 1, 2)      0           unet_out_AdaIN_b[0][0]           \n",
      "__________________________________________________________________________________________________\n",
      "reshape_99 (Reshape)            (None, 1, 1, 2)      0           unet_out_AdaIN_g[0][0]           \n",
      "__________________________________________________________________________________________________\n",
      "ada_in_39 (AdaIN)               (None, None, None, 2 0           unet_out_conv[0][0]              \n",
      "                                                                 reshape_98[0][0]                 \n",
      "                                                                 reshape_99[0][0]                 \n",
      "__________________________________________________________________________________________________\n",
      "unet_out_leaky0 (LeakyReLU)     (None, None, None, 2 0           ada_in_39[0][0]                  \n",
      "__________________________________________________________________________________________________\n",
      "unet_exit (Conv2D)              (None, None, None, 1 3           unet_out_leaky0[0][0]            \n",
      "==================================================================================================\n",
      "Total params: 6,624,775\n",
      "Trainable params: 6,622,663\n",
      "Non-trainable params: 2,112\n",
      "__________________________________________________________________________________________________\n"
     ]
    }
   ],
   "source": [
    "test.summary()"
   ]
  },
  {
   "cell_type": "code",
   "execution_count": 63,
   "metadata": {},
   "outputs": [],
   "source": [
    "W_base_test = np.copy(W_base)\n",
    "W_base_test[:, flag_sparse] = 0\n",
    "W_elev_test = np.copy(W_elev)\n",
    "W_elev_test[:, flag_sparse] = 0"
   ]
  },
  {
   "cell_type": "code",
   "execution_count": 50,
   "metadata": {},
   "outputs": [
    {
     "data": {
      "text/plain": [
       "(5000, 384)"
      ]
     },
     "execution_count": 50,
     "metadata": {},
     "output_type": "execute_result"
    }
   ],
   "source": [
    "W_elev_test.shape"
   ]
  },
  {
   "cell_type": "code",
   "execution_count": 51,
   "metadata": {},
   "outputs": [
    {
     "data": {
      "text/plain": [
       "False"
      ]
     },
     "execution_count": 51,
     "metadata": {},
     "output_type": "execute_result"
    }
   ],
   "source": [
    "~flag_sparse[i]"
   ]
  },
  {
   "cell_type": "code",
   "execution_count": 78,
   "metadata": {},
   "outputs": [],
   "source": [
    "# L = len(flag_sparse)\n",
    "# for i in range(L):\n",
    "#     for j in range(L):\n",
    "#         if (i > j) and np.logical_not(np.logical_or(flag_sparse[i], flag_sparse[j])):\n",
    "#             fig = plt.figure(figsize=(6, 6))\n",
    "#             ax = fig.gca()\n",
    "#             ax.plot(W_base_test[:, i], W_base_test[:, j], 'r.')\n",
    "#             ax.plot(W_elev_test[:, i], W_elev_test[:, j], 'b.')\n",
    "#             #ax = gu.ax_decorate_box(ax)\n",
    "#             ax.set_aspect('equal')\n",
    "#             minimum = np.min((ax.get_xlim(),ax.get_ylim()))\n",
    "#             maximum = np.max((ax.get_xlim(),ax.get_ylim()))\n",
    "#             ax.set_xlim(minimum*1.2,maximum*1.2)\n",
    "#             ax.set_ylim(minimum*1.2,maximum*1.2)\n",
    "#             ax.set_title('x-axis: {}, y-axis: {}'.format(i, j), fontsize=14)"
   ]
  },
  {
   "cell_type": "markdown",
   "metadata": {},
   "source": [
    "**manifold learning**"
   ]
  },
  {
   "cell_type": "code",
   "execution_count": 28,
   "metadata": {},
   "outputs": [],
   "source": [
    "from sklearn import manifold\n",
    "from sklearn import decomposition"
   ]
  },
  {
   "cell_type": "code",
   "execution_count": 27,
   "metadata": {},
   "outputs": [],
   "source": [
    "import GPy\n",
    "#GPy.models.GPLVM(data, input_dim=input_dim, kernel=kernel)"
   ]
  },
  {
   "cell_type": "code",
   "execution_count": null,
   "metadata": {},
   "outputs": [],
   "source": []
  },
  {
   "cell_type": "code",
   "execution_count": null,
   "metadata": {},
   "outputs": [],
   "source": [
    "# from sklearn import manifold\n",
    "# from sklearn import decomposition\n",
    "# W_concat = np.concatenate((W_base.T, W_elev.T), axis=-1)\n",
    "\n",
    "# TSVD = decomposition.TruncatedSVD(n_components=1, n_iter=1000)\n",
    "# TSVD.fit(W_concat)\n",
    "# W_reduced = TSVD.transform(W_concat)\n",
    "# W_mix = np.repeat(W_reduced[:, 0][None, :], 200, axis=0)\n",
    "\n",
    "# gen_valid_mix1 = gan_predict(validfiles1, labels, input_flag, output_flag, [W_mix, W_base_mean])\n",
    "# gen_valid_mix2 = gan_predict(validfiles2, labels, input_flag, output_flag, [W_mix, W_base_mean])\n",
    "# model_mix.evaluate_generator(gen_valid_mix1, verbose=1);\n",
    "# model_mix.evaluate_generator(gen_valid_mix2, verbose=1);"
   ]
  },
  {
   "cell_type": "markdown",
   "metadata": {},
   "source": [
    "**NN-based style mix**"
   ]
  },
  {
   "cell_type": "code",
   "execution_count": 9,
   "metadata": {},
   "outputs": [],
   "source": [
    "def mapping_network_fixer(style_model, style_gan_name, trainable=False):\n",
    "    '''\n",
    "    Assuming layers names (and number of nodes) match\n",
    "    '''\n",
    "    W = tu.dummy_loader(style_gan_name)\n",
    "    model = mu.UNET_STYLE(N, input_size, latent_lev, latent_size, mapping_size, \n",
    "                          pool=pool, activation=activation, noise=[0.2, 0.1])\n",
    "    model.set_weights(W)\n",
    "    W_mapping_network = []\n",
    "    for layer in model.layers:\n",
    "        if layer.name[:3] == 'map':\n",
    "            W_mapping_network += layer.get_weights()\n",
    "    \n",
    "    if ~trainable:\n",
    "        style_model.trainable = False\n",
    "        for layer in style_model.layers:\n",
    "            layer.trainable = False\n",
    "    opt_G = keras.optimizers.Adam(lr=0)\n",
    "    style_model.compile(loss=keras.losses.mean_squared_error, optimizer=opt_G)\n",
    "    style_model.set_weights(W_mapping_network)\n",
    "    return style_model\n",
    "\n",
    "\n",
    "def mix_network_fixer(dscale_model, dscale_gan_name):\n",
    "    W = tu.dummy_loader(dscale_gan_name)\n",
    "    model = mu.UNET_STYLE(N, input_size, latent_lev, latent_size, mapping_size, \n",
    "                          pool=pool, activation=activation, noise=[False, False])\n",
    "    model.set_weights(W)\n",
    "    \n",
    "    for layer in dscale_model.layers:\n",
    "        if layer.name[:4] == 'unet':\n",
    "            layer.trainable = False\n",
    "    opt_G = keras.optimizers.Adam(lr=0)\n",
    "    dscale_model.compile(loss=keras.losses.mean_squared_error, optimizer=opt_G)\n",
    "    \n",
    "    for layer in model.layers:\n",
    "        for layer2 in dscale_model.layers:\n",
    "            if layer.name == layer2.name and layer.name[:4] == 'unet':\n",
    "                layer2.set_weights(layer.get_weights())\n",
    "                \n",
    "    return dscale_model"
   ]
  },
  {
   "cell_type": "code",
   "execution_count": 10,
   "metadata": {},
   "outputs": [
    {
     "name": "stdout",
     "output_type": "stream",
     "text": [
      "Import model:\n",
      "/glade/work/ksha/data/Keras/BACKUP/STYLE_G_TMEAN_jja.hdf\n",
      "Import model:\n",
      "/glade/work/ksha/data/Keras/BACKUP/STYLE_G_ELEV_jja.hdf\n"
     ]
    }
   ],
   "source": [
    "style_model_base = mu.STYLE_MAP(latent_lev, latent_size, mapping_size)\n",
    "style_model_base = mapping_network_fixer(style_model_base, \n",
    "                                         model_import_dir+'STYLE_G_TMEAN_jja.hdf', \n",
    "                                         trainable=False)\n",
    "\n",
    "style_model_elev = mu.STYLE_MAP(latent_lev, latent_size, mapping_size)\n",
    "style_model_elev = mapping_network_fixer(style_model_elev, \n",
    "                                         model_import_dir+'STYLE_G_ELEV_jja.hdf', \n",
    "                                         trainable=False)"
   ]
  },
  {
   "cell_type": "code",
   "execution_count": 35,
   "metadata": {},
   "outputs": [
    {
     "name": "stdout",
     "output_type": "stream",
     "text": [
      "Import model:\n",
      "/glade/work/ksha/data/Keras/BACKUP/STYLE_G_TMEAN_jja.hdf\n"
     ]
    }
   ],
   "source": [
    "model_mix = mu.UNET_MAP_MIX(N, input_size, latent_lev, latent_size, mapping_size, \n",
    "                            pool=pool, activation=activation, noise=[False, False])\n",
    "model_mix = mix_network_fixer(model_mix, model_import_dir+'STYLE_G_TMEAN_jja.hdf')"
   ]
  },
  {
   "cell_type": "code",
   "execution_count": 12,
   "metadata": {},
   "outputs": [
    {
     "name": "stdout",
     "output_type": "stream",
     "text": [
      "Compiling D\n"
     ]
    }
   ],
   "source": [
    "input_size_d = (None, None, N_input+1)\n",
    "D = mu.vgg_descriminator(N, input_size_d)\n",
    "opt_D = keras.optimizers.Adam(lr=l[1])\n",
    "print('Compiling D')\n",
    "D.compile(loss=keras.losses.mean_squared_error, optimizer=opt_D)\n",
    "D.trainable = False\n",
    "for layer in D.layers:\n",
    "    layer.trainable = False"
   ]
  },
  {
   "cell_type": "code",
   "execution_count": 13,
   "metadata": {},
   "outputs": [
    {
     "name": "stdout",
     "output_type": "stream",
     "text": [
      "Compiling GAN\n"
     ]
    }
   ],
   "source": [
    "GAN_IN1 = keras.layers.Input(shape=[latent_size])\n",
    "GAN_IN2 = keras.layers.Input(shape=[latent_size])\n",
    "GAN_IN3 = keras.layers.Input((None, None, N_input))\n",
    "\n",
    "# W1 = style_model_base(GAN_IN1)\n",
    "# W2 = style_model_elev(GAN_IN2)\n",
    "\n",
    "G_OUT = model_mix([GAN_IN1, GAN_IN2, GAN_IN3])\n",
    "D_IN = keras.layers.Concatenate()([G_OUT, GAN_IN3])\n",
    "D_OUT = D(D_IN)\n",
    "GAN = keras.models.Model([GAN_IN1, GAN_IN2, GAN_IN3], [G_OUT, D_OUT])\n",
    "# optimizer\n",
    "opt_GAN = keras.optimizers.Adam(lr=l[0])\n",
    "print('Compiling GAN')\n",
    "# content_loss + 1e-3 * adversarial_loss\n",
    "GAN.compile(loss=[keras.losses.mean_squared_error, keras.losses.binary_crossentropy], \n",
    "            loss_weights=[1.0, lmd],\n",
    "            optimizer=opt_GAN)"
   ]
  },
  {
   "cell_type": "code",
   "execution_count": 14,
   "metadata": {},
   "outputs": [],
   "source": [
    "# early stopping settings\n",
    "min_del = 0\n",
    "max_tol = 10 # early stopping with patience"
   ]
  },
  {
   "cell_type": "code",
   "execution_count": 15,
   "metadata": {},
   "outputs": [],
   "source": [
    "class grid_grid_gen_noise_temp(keras.utils.Sequence):\n",
    "    def __init__(self, filename, labels, input_flag, output_flag, latent_size):\n",
    "\n",
    "        self.filename = filename\n",
    "        self.labels = labels\n",
    "        self.input_flag = input_flag\n",
    "        self.output_flag = output_flag\n",
    "        self.latent_size = latent_size\n",
    "        self.filenum = len(self.filename)\n",
    "    def __len__(self):\n",
    "        return self.filenum\n",
    "    \n",
    "    def __getitem__(self, index):\n",
    "        temp_name = self.filename[index]\n",
    "        return self.__readfile__(temp_name, self.labels, self.input_flag, self.output_flag, self.latent_size)\n",
    "    \n",
    "    def __readfile__(self, temp_name, labels, input_flag, output_flag, latent_size):\n",
    "        \n",
    "        data_temp = np.load(temp_name, allow_pickle=True)\n",
    "        X = data_temp[()][labels[0]][..., input_flag] # channel last\n",
    "        Y = data_temp[()][labels[1]][..., output_flag]\n",
    "        train_size = len(Y)\n",
    "        Z1 = np.random.normal(0.0, 1.0, size = [train_size, latent_size])\n",
    "        Z2 = np.random.normal(0.0, 1.0, size = [train_size, latent_size])\n",
    "        noise = [np.squeeze(style_model_base.predict(Z1)), np.squeeze(style_model_elev.predict(Z2))]\n",
    "        return noise+[X], [Y]"
   ]
  },
  {
   "cell_type": "code",
   "execution_count": 16,
   "metadata": {},
   "outputs": [],
   "source": [
    "# key = 'STYLE'\n",
    "# # Filepath\n",
    "# file_path = BATCH_dir\n",
    "# trainfile64 = glob(file_path+'TMEAN_BATCH_64_TORI_*{}*.npy'.format(sea))\n",
    "# trainfile96 = glob(file_path+'TMEAN_BATCH_96_TORI_*{}*.npy'.format(sea))\n",
    "# validfiles1 = glob(file_path+'TMEAN_BATCH_64_TSUB_*{}*.npy'.format(sea)) + glob(file_path+'TMEAN_BATCH_96_TSUB_*{}*.npy'.format(sea))\n",
    "# validfiles2 = glob(file_path+'TMEAN_BATCH_64_VORI_*{}*.npy'.format(sea)) + glob(file_path+'TMEAN_BATCH_96_VORI_*{}*.npy'.format(sea)) "
   ]
  },
  {
   "cell_type": "code",
   "execution_count": 17,
   "metadata": {},
   "outputs": [],
   "source": [
    "# gen_train = grid_grid_gen_noise_temp(trainfile64+trainfile96, labels, input_flag, output_flag, latent_size)\n",
    "# gen_valid = grid_grid_gen_noise_temp(validfiles1, labels, input_flag, output_flag, latent_size)"
   ]
  },
  {
   "cell_type": "code",
   "execution_count": 18,
   "metadata": {},
   "outputs": [],
   "source": [
    "# G_name = '{}_G_TMEAN_{}_trans'.format(key, sea)\n",
    "# D_name = '{}_D_TMEAN_{}_trans'.format(key, sea)\n",
    "# G_path = temp_dir+G_name+'.hdf'\n",
    "# callbacks = [keras.callbacks.EarlyStopping(monitor='val_loss', min_delta=0, patience=5, verbose=True),\n",
    "#              keras.callbacks.ModelCheckpoint(filepath=G_path, verbose=True, monitor='val_loss', save_best_only=True)]"
   ]
  },
  {
   "cell_type": "code",
   "execution_count": 19,
   "metadata": {},
   "outputs": [],
   "source": [
    "# model_mix.fit_generator(generator=gen_train, validation_data=gen_valid, callbacks=callbacks, \n",
    "#                         verbose=1, shuffle=True, max_queue_size=8, workers=8)"
   ]
  },
  {
   "cell_type": "code",
   "execution_count": null,
   "metadata": {},
   "outputs": [],
   "source": []
  },
  {
   "cell_type": "code",
   "execution_count": 20,
   "metadata": {},
   "outputs": [
    {
     "name": "stdout",
     "output_type": "stream",
     "text": [
      "epoch = 0\n",
      "\t0 step loss = [17.530735, 0.026471388, 0.45896655]\n"
     ]
    },
    {
     "ename": "KeyboardInterrupt",
     "evalue": "",
     "output_type": "error",
     "traceback": [
      "\u001b[0;31m---------------------------------------------------------------------------\u001b[0m",
      "\u001b[0;31mKeyboardInterrupt\u001b[0m                         Traceback (most recent call last)",
      "\u001b[0;32m<ipython-input-20-0a7c404739c7>\u001b[0m in \u001b[0;36m<module>\u001b[0;34m\u001b[0m\n\u001b[1;32m     75\u001b[0m         \u001b[0mgan_in\u001b[0m \u001b[0;34m=\u001b[0m \u001b[0;34m[\u001b[0m\u001b[0mW1\u001b[0m\u001b[0;34m,\u001b[0m \u001b[0mW2\u001b[0m\u001b[0;34m,\u001b[0m \u001b[0mX\u001b[0m\u001b[0;34m[\u001b[0m\u001b[0;34m...\u001b[0m\u001b[0;34m,\u001b[0m \u001b[0minput_flag\u001b[0m\u001b[0;34m]\u001b[0m\u001b[0;34m]\u001b[0m\u001b[0;34m\u001b[0m\u001b[0;34m\u001b[0m\u001b[0m\n\u001b[1;32m     76\u001b[0m         \u001b[0mgan_target\u001b[0m \u001b[0;34m=\u001b[0m \u001b[0;34m[\u001b[0m\u001b[0mX\u001b[0m\u001b[0;34m[\u001b[0m\u001b[0;34m...\u001b[0m\u001b[0;34m,\u001b[0m \u001b[0moutput_flag\u001b[0m\u001b[0;34m]\u001b[0m\u001b[0;34m,\u001b[0m \u001b[0mdummy_good\u001b[0m\u001b[0;34m]\u001b[0m\u001b[0;34m\u001b[0m\u001b[0;34m\u001b[0m\u001b[0m\n\u001b[0;32m---> 77\u001b[0;31m         \u001b[0mgan_loss\u001b[0m \u001b[0;34m=\u001b[0m \u001b[0mGAN\u001b[0m\u001b[0;34m.\u001b[0m\u001b[0mtrain_on_batch\u001b[0m\u001b[0;34m(\u001b[0m\u001b[0mgan_in\u001b[0m\u001b[0;34m,\u001b[0m \u001b[0mgan_target\u001b[0m\u001b[0;34m)\u001b[0m\u001b[0;34m\u001b[0m\u001b[0;34m\u001b[0m\u001b[0m\n\u001b[0m\u001b[1;32m     78\u001b[0m         \u001b[0;31m# ---------------------- #\u001b[0m\u001b[0;34m\u001b[0m\u001b[0;34m\u001b[0m\u001b[0;34m\u001b[0m\u001b[0m\n\u001b[1;32m     79\u001b[0m \u001b[0;34m\u001b[0m\u001b[0m\n",
      "\u001b[0;32m/glade/work/ksha/anaconda3/lib/python3.7/site-packages/tensorflow_core/python/keras/engine/training.py\u001b[0m in \u001b[0;36mtrain_on_batch\u001b[0;34m(self, x, y, sample_weight, class_weight, reset_metrics)\u001b[0m\n\u001b[1;32m    971\u001b[0m       outputs = training_v2_utils.train_on_batch(\n\u001b[1;32m    972\u001b[0m           \u001b[0mself\u001b[0m\u001b[0;34m,\u001b[0m \u001b[0mx\u001b[0m\u001b[0;34m,\u001b[0m \u001b[0my\u001b[0m\u001b[0;34m=\u001b[0m\u001b[0my\u001b[0m\u001b[0;34m,\u001b[0m \u001b[0msample_weight\u001b[0m\u001b[0;34m=\u001b[0m\u001b[0msample_weight\u001b[0m\u001b[0;34m,\u001b[0m\u001b[0;34m\u001b[0m\u001b[0;34m\u001b[0m\u001b[0m\n\u001b[0;32m--> 973\u001b[0;31m           class_weight=class_weight, reset_metrics=reset_metrics)\n\u001b[0m\u001b[1;32m    974\u001b[0m       outputs = (outputs['total_loss'] + outputs['output_losses'] +\n\u001b[1;32m    975\u001b[0m                  outputs['metrics'])\n",
      "\u001b[0;32m/glade/work/ksha/anaconda3/lib/python3.7/site-packages/tensorflow_core/python/keras/engine/training_v2_utils.py\u001b[0m in \u001b[0;36mtrain_on_batch\u001b[0;34m(model, x, y, sample_weight, class_weight, reset_metrics)\u001b[0m\n\u001b[1;32m    262\u001b[0m       \u001b[0my\u001b[0m\u001b[0;34m,\u001b[0m\u001b[0;34m\u001b[0m\u001b[0;34m\u001b[0m\u001b[0m\n\u001b[1;32m    263\u001b[0m       \u001b[0msample_weights\u001b[0m\u001b[0;34m=\u001b[0m\u001b[0msample_weights\u001b[0m\u001b[0;34m,\u001b[0m\u001b[0;34m\u001b[0m\u001b[0;34m\u001b[0m\u001b[0m\n\u001b[0;32m--> 264\u001b[0;31m       output_loss_metrics=model._output_loss_metrics)\n\u001b[0m\u001b[1;32m    265\u001b[0m \u001b[0;34m\u001b[0m\u001b[0m\n\u001b[1;32m    266\u001b[0m   \u001b[0;32mif\u001b[0m \u001b[0mreset_metrics\u001b[0m\u001b[0;34m:\u001b[0m\u001b[0;34m\u001b[0m\u001b[0;34m\u001b[0m\u001b[0m\n",
      "\u001b[0;32m/glade/work/ksha/anaconda3/lib/python3.7/site-packages/tensorflow_core/python/keras/engine/training_eager.py\u001b[0m in \u001b[0;36mtrain_on_batch\u001b[0;34m(model, inputs, targets, sample_weights, output_loss_metrics)\u001b[0m\n\u001b[1;32m    309\u001b[0m           \u001b[0msample_weights\u001b[0m\u001b[0;34m=\u001b[0m\u001b[0msample_weights\u001b[0m\u001b[0;34m,\u001b[0m\u001b[0;34m\u001b[0m\u001b[0;34m\u001b[0m\u001b[0m\n\u001b[1;32m    310\u001b[0m           \u001b[0mtraining\u001b[0m\u001b[0;34m=\u001b[0m\u001b[0;32mTrue\u001b[0m\u001b[0;34m,\u001b[0m\u001b[0;34m\u001b[0m\u001b[0;34m\u001b[0m\u001b[0m\n\u001b[0;32m--> 311\u001b[0;31m           output_loss_metrics=output_loss_metrics))\n\u001b[0m\u001b[1;32m    312\u001b[0m   \u001b[0;32mif\u001b[0m \u001b[0;32mnot\u001b[0m \u001b[0misinstance\u001b[0m\u001b[0;34m(\u001b[0m\u001b[0mouts\u001b[0m\u001b[0;34m,\u001b[0m \u001b[0mlist\u001b[0m\u001b[0;34m)\u001b[0m\u001b[0;34m:\u001b[0m\u001b[0;34m\u001b[0m\u001b[0;34m\u001b[0m\u001b[0m\n\u001b[1;32m    313\u001b[0m     \u001b[0mouts\u001b[0m \u001b[0;34m=\u001b[0m \u001b[0;34m[\u001b[0m\u001b[0mouts\u001b[0m\u001b[0;34m]\u001b[0m\u001b[0;34m\u001b[0m\u001b[0;34m\u001b[0m\u001b[0m\n",
      "\u001b[0;32m/glade/work/ksha/anaconda3/lib/python3.7/site-packages/tensorflow_core/python/keras/engine/training_eager.py\u001b[0m in \u001b[0;36m_process_single_batch\u001b[0;34m(model, inputs, targets, output_loss_metrics, sample_weights, training)\u001b[0m\n\u001b[1;32m    266\u001b[0m           \u001b[0mmodel\u001b[0m\u001b[0;34m.\u001b[0m\u001b[0m_backwards\u001b[0m\u001b[0;34m(\u001b[0m\u001b[0mtape\u001b[0m\u001b[0;34m,\u001b[0m \u001b[0mscaled_total_loss\u001b[0m\u001b[0;34m)\u001b[0m\u001b[0;34m\u001b[0m\u001b[0;34m\u001b[0m\u001b[0m\n\u001b[1;32m    267\u001b[0m         \u001b[0;32melse\u001b[0m\u001b[0;34m:\u001b[0m\u001b[0;34m\u001b[0m\u001b[0;34m\u001b[0m\u001b[0m\n\u001b[0;32m--> 268\u001b[0;31m           \u001b[0mgrads\u001b[0m \u001b[0;34m=\u001b[0m \u001b[0mtape\u001b[0m\u001b[0;34m.\u001b[0m\u001b[0mgradient\u001b[0m\u001b[0;34m(\u001b[0m\u001b[0mscaled_total_loss\u001b[0m\u001b[0;34m,\u001b[0m \u001b[0mtrainable_weights\u001b[0m\u001b[0;34m)\u001b[0m\u001b[0;34m\u001b[0m\u001b[0;34m\u001b[0m\u001b[0m\n\u001b[0m\u001b[1;32m    269\u001b[0m           if isinstance(model.optimizer,\n\u001b[1;32m    270\u001b[0m                         loss_scale_optimizer.LossScaleOptimizer):\n",
      "\u001b[0;32m/glade/work/ksha/anaconda3/lib/python3.7/site-packages/tensorflow_core/python/eager/backprop.py\u001b[0m in \u001b[0;36mgradient\u001b[0;34m(self, target, sources, output_gradients, unconnected_gradients)\u001b[0m\n\u001b[1;32m   1012\u001b[0m         \u001b[0moutput_gradients\u001b[0m\u001b[0;34m=\u001b[0m\u001b[0moutput_gradients\u001b[0m\u001b[0;34m,\u001b[0m\u001b[0;34m\u001b[0m\u001b[0;34m\u001b[0m\u001b[0m\n\u001b[1;32m   1013\u001b[0m         \u001b[0msources_raw\u001b[0m\u001b[0;34m=\u001b[0m\u001b[0mflat_sources_raw\u001b[0m\u001b[0;34m,\u001b[0m\u001b[0;34m\u001b[0m\u001b[0;34m\u001b[0m\u001b[0m\n\u001b[0;32m-> 1014\u001b[0;31m         unconnected_gradients=unconnected_gradients)\n\u001b[0m\u001b[1;32m   1015\u001b[0m \u001b[0;34m\u001b[0m\u001b[0m\n\u001b[1;32m   1016\u001b[0m     \u001b[0;32mif\u001b[0m \u001b[0;32mnot\u001b[0m \u001b[0mself\u001b[0m\u001b[0;34m.\u001b[0m\u001b[0m_persistent\u001b[0m\u001b[0;34m:\u001b[0m\u001b[0;34m\u001b[0m\u001b[0;34m\u001b[0m\u001b[0m\n",
      "\u001b[0;32m/glade/work/ksha/anaconda3/lib/python3.7/site-packages/tensorflow_core/python/eager/imperative_grad.py\u001b[0m in \u001b[0;36mimperative_grad\u001b[0;34m(tape, target, sources, output_gradients, sources_raw, unconnected_gradients)\u001b[0m\n\u001b[1;32m     74\u001b[0m       \u001b[0moutput_gradients\u001b[0m\u001b[0;34m,\u001b[0m\u001b[0;34m\u001b[0m\u001b[0;34m\u001b[0m\u001b[0m\n\u001b[1;32m     75\u001b[0m       \u001b[0msources_raw\u001b[0m\u001b[0;34m,\u001b[0m\u001b[0;34m\u001b[0m\u001b[0;34m\u001b[0m\u001b[0m\n\u001b[0;32m---> 76\u001b[0;31m       compat.as_str(unconnected_gradients.value))\n\u001b[0m",
      "\u001b[0;32m/glade/work/ksha/anaconda3/lib/python3.7/site-packages/tensorflow_core/python/eager/backprop.py\u001b[0m in \u001b[0;36m_gradient_function\u001b[0;34m(op_name, attr_tuple, num_inputs, inputs, outputs, out_grads, skip_input_indices)\u001b[0m\n\u001b[1;32m    136\u001b[0m     \u001b[0;32mreturn\u001b[0m \u001b[0;34m[\u001b[0m\u001b[0;32mNone\u001b[0m\u001b[0;34m]\u001b[0m \u001b[0;34m*\u001b[0m \u001b[0mnum_inputs\u001b[0m\u001b[0;34m\u001b[0m\u001b[0;34m\u001b[0m\u001b[0m\n\u001b[1;32m    137\u001b[0m \u001b[0;34m\u001b[0m\u001b[0m\n\u001b[0;32m--> 138\u001b[0;31m   \u001b[0;32mreturn\u001b[0m \u001b[0mgrad_fn\u001b[0m\u001b[0;34m(\u001b[0m\u001b[0mmock_op\u001b[0m\u001b[0;34m,\u001b[0m \u001b[0;34m*\u001b[0m\u001b[0mout_grads\u001b[0m\u001b[0;34m)\u001b[0m\u001b[0;34m\u001b[0m\u001b[0;34m\u001b[0m\u001b[0m\n\u001b[0m\u001b[1;32m    139\u001b[0m \u001b[0;34m\u001b[0m\u001b[0m\n\u001b[1;32m    140\u001b[0m \u001b[0;34m\u001b[0m\u001b[0m\n",
      "\u001b[0;32m/glade/work/ksha/anaconda3/lib/python3.7/site-packages/tensorflow_core/python/ops/nn_grad.py\u001b[0m in \u001b[0;36m_Conv2DGrad\u001b[0;34m(op, grad)\u001b[0m\n\u001b[1;32m    604\u001b[0m           \u001b[0mexplicit_paddings\u001b[0m\u001b[0;34m=\u001b[0m\u001b[0mexplicit_paddings\u001b[0m\u001b[0;34m,\u001b[0m\u001b[0;34m\u001b[0m\u001b[0;34m\u001b[0m\u001b[0m\n\u001b[1;32m    605\u001b[0m           \u001b[0muse_cudnn_on_gpu\u001b[0m\u001b[0;34m=\u001b[0m\u001b[0muse_cudnn_on_gpu\u001b[0m\u001b[0;34m,\u001b[0m\u001b[0;34m\u001b[0m\u001b[0;34m\u001b[0m\u001b[0m\n\u001b[0;32m--> 606\u001b[0;31m           data_format=data_format)\n\u001b[0m\u001b[1;32m    607\u001b[0m   ]\n\u001b[1;32m    608\u001b[0m \u001b[0;34m\u001b[0m\u001b[0m\n",
      "\u001b[0;32m/glade/work/ksha/anaconda3/lib/python3.7/site-packages/tensorflow_core/python/ops/gen_nn_ops.py\u001b[0m in \u001b[0;36mconv2d_backprop_filter\u001b[0;34m(input, filter_sizes, out_backprop, strides, padding, use_cudnn_on_gpu, explicit_paddings, data_format, dilations, name)\u001b[0m\n\u001b[1;32m   1185\u001b[0m         \u001b[0mfilter_sizes\u001b[0m\u001b[0;34m,\u001b[0m \u001b[0mout_backprop\u001b[0m\u001b[0;34m,\u001b[0m \u001b[0;34m\"strides\"\u001b[0m\u001b[0;34m,\u001b[0m \u001b[0mstrides\u001b[0m\u001b[0;34m,\u001b[0m \u001b[0;34m\"use_cudnn_on_gpu\"\u001b[0m\u001b[0;34m,\u001b[0m\u001b[0;34m\u001b[0m\u001b[0;34m\u001b[0m\u001b[0m\n\u001b[1;32m   1186\u001b[0m         \u001b[0muse_cudnn_on_gpu\u001b[0m\u001b[0;34m,\u001b[0m \u001b[0;34m\"padding\"\u001b[0m\u001b[0;34m,\u001b[0m \u001b[0mpadding\u001b[0m\u001b[0;34m,\u001b[0m \u001b[0;34m\"explicit_paddings\"\u001b[0m\u001b[0;34m,\u001b[0m\u001b[0;34m\u001b[0m\u001b[0;34m\u001b[0m\u001b[0m\n\u001b[0;32m-> 1187\u001b[0;31m         explicit_paddings, \"data_format\", data_format, \"dilations\", dilations)\n\u001b[0m\u001b[1;32m   1188\u001b[0m       \u001b[0;32mreturn\u001b[0m \u001b[0m_result\u001b[0m\u001b[0;34m\u001b[0m\u001b[0;34m\u001b[0m\u001b[0m\n\u001b[1;32m   1189\u001b[0m     \u001b[0;32mexcept\u001b[0m \u001b[0m_core\u001b[0m\u001b[0;34m.\u001b[0m\u001b[0m_FallbackException\u001b[0m\u001b[0;34m:\u001b[0m\u001b[0;34m\u001b[0m\u001b[0;34m\u001b[0m\u001b[0m\n",
      "\u001b[0;31mKeyboardInterrupt\u001b[0m: "
     ]
    }
   ],
   "source": [
    "key = 'STYLE'\n",
    "# Filepath\n",
    "file_path = BATCH_dir\n",
    "trainfile64 = glob(file_path+'TMEAN_BATCH_64_TORI_*{}*.npy'.format(sea))\n",
    "trainfile96 = glob(file_path+'TMEAN_BATCH_96_TORI_*{}*.npy'.format(sea))\n",
    "validfiles1 = glob(file_path+'TMEAN_BATCH_64_TSUB_*{}*.npy'.format(sea)) + glob(file_path+'TMEAN_BATCH_96_TSUB_*{}*.npy'.format(sea))\n",
    "validfiles2 = glob(file_path+'TMEAN_BATCH_64_VORI_*{}*.npy'.format(sea)) + glob(file_path+'TMEAN_BATCH_96_VORI_*{}*.npy'.format(sea)) \n",
    "#\n",
    "L_train = 320\n",
    "gen_valid1 = grid_grid_gen_noise_temp(validfiles1, labels, input_flag, output_flag, latent_size)\n",
    "gen_valid2 = grid_grid_gen_noise_temp(validfiles2, labels, input_flag, output_flag, latent_size)\n",
    "# model names\n",
    "G_name = '{}_G_TMEAN_{}_trans'.format(key, sea)\n",
    "D_name = '{}_D_TMEAN_{}_trans'.format(key, sea)\n",
    "G_path = temp_dir+G_name+'.hdf'\n",
    "D_path = temp_dir+D_name+'.hdf'\n",
    "hist_path = temp_dir+'{}_LOSS_TMEAN_{}_trans.npy'.format(key, sea)\n",
    "\n",
    "# loss backup\n",
    "GAN_LOSS = np.zeros([int(epochs*L_train), 3])*np.nan\n",
    "D_LOSS = np.zeros([int(epochs*L_train)])*np.nan\n",
    "V_LOSS = np.zeros([epochs])*np.nan\n",
    "V_LOSS_TRANS = np.zeros([epochs])*np.nan\n",
    "tol = 0\n",
    "batch_size = 200\n",
    "train_size = 100\n",
    "record = 999\n",
    "\n",
    "for i in range(epochs):\n",
    "    print('epoch = {}'.format(i))\n",
    "    start_time = time.time()\n",
    "    shuffle(trainfile64)\n",
    "    shuffle(trainfile96)\n",
    "    trainfiles = trainfile64[:160] + trainfile96[:160]\n",
    "    # shuffling at epoch begin\n",
    "    shuffle(trainfiles)\n",
    "    # loop over batches\n",
    "    for j, name in enumerate(trainfiles):        \n",
    "\n",
    "        # ----- import batch data subset ----- #\n",
    "        inds = du.shuffle_ind(batch_size)[:train_size]\n",
    "        temp_batch = np.load(name, allow_pickle=True)[()]\n",
    "        X = temp_batch['batch'][inds, ...]\n",
    "        # ------------------------------------ #\n",
    "\n",
    "        # ----- D training ----- #\n",
    "        # Latent space sampling\n",
    "        Z1 = np.random.normal(0.0, 1.0, size = [train_size, latent_size])\n",
    "        Z2 = np.random.normal(0.0, 1.0, size = [train_size, latent_size])\n",
    "        W1 = np.squeeze(style_model_base.predict(Z1))\n",
    "        W2 = np.squeeze(style_model_elev.predict(Z2))\n",
    "        # soft labels\n",
    "        dummy_bad = np.ones(train_size)*0.1 + np.random.uniform(-0.02, 0.02, train_size)\n",
    "        dummy_good = np.ones(train_size)*0.9 + np.random.uniform(-0.02, 0.02, train_size)\n",
    "        # get G_output (channel last)\n",
    "        g_in = [W1, W2, X[..., input_flag]]\n",
    "        g_out = model_mix.predict(g_in) # <-- np.array\n",
    "        # train on batch\n",
    "        d_in_fake = np.concatenate((g_out, X[..., input_flag]), axis=-1)\n",
    "        d_in_true = X[..., inout_flag]\n",
    "        d_loss1 = D.train_on_batch(d_in_true, dummy_good)\n",
    "        d_loss2 = D.train_on_batch(d_in_fake, dummy_bad)\n",
    "        d_loss = d_loss1 + d_loss2\n",
    "        # ----------------------- #\n",
    "\n",
    "        # ----- G training ----- #\n",
    "        # Latent space sampling\n",
    "        Z1 = np.random.normal(0.0, 1.0, size = [train_size, latent_size])\n",
    "        Z2 = np.random.normal(0.0, 1.0, size = [train_size, latent_size])\n",
    "        W1 = np.squeeze(style_model_base.predict(Z1))\n",
    "        W2 = np.squeeze(style_model_elev.predict(Z2))\n",
    "        # soft labels\n",
    "        dummy_good = np.ones(train_size)*0.9 + np.random.uniform(-0.02, 0.02, train_size)\n",
    "        # train on batch\n",
    "        gan_in = [W1, W2, X[..., input_flag]]\n",
    "        gan_target = [X[..., output_flag], dummy_good]\n",
    "        gan_loss = GAN.train_on_batch(gan_in, gan_target)\n",
    "        # ---------------------- #\n",
    "\n",
    "        # ----- Backup training loss ----- #\n",
    "        D_LOSS[i*L_train+j] = d_loss\n",
    "        GAN_LOSS[i*L_train+j, :] = gan_loss\n",
    "        # -------------------------------- #\n",
    "        if j%50 == 0:\n",
    "            print('\\t{} step loss = {}'.format(j, gan_loss))\n",
    "    # on epoch-end\n",
    "    record_temp_trans = model_mix.evaluate_generator(gen_valid1, verbose=1)\n",
    "    record_temp = model_mix.evaluate_generator(gen_valid2, verbose=1)\n",
    "    # Backup validation loss\n",
    "    V_LOSS[i] = record_temp\n",
    "    V_LOSS_TRANS[i] = record_temp_trans\n",
    "    # Overwrite loss info\n",
    "    LOSS = {'GAN_LOSS':GAN_LOSS, 'D_LOSS':D_LOSS, \n",
    "            'V_LOSS':V_LOSS, 'V_LOSS_TRANS':V_LOSS_TRANS}\n",
    "    np.save(hist_path, LOSS)\n",
    "\n",
    "    #record_temp += record_temp_trans \n",
    "    record_temp = record_temp_trans\n",
    "\n",
    "    if record - record_temp > min_del:\n",
    "        print('Validation loss improved from {} to {}'.format(record, record_temp))\n",
    "        record = record_temp\n",
    "        tol = 0\n",
    "        print('tol: {}'.format(tol))\n",
    "        # save\n",
    "        print('save to: {}\\n\\t{}'.format(G_path, D_path))\n",
    "        model_mix.save(G_path)\n",
    "        D.save(D_path)\n",
    "    else:\n",
    "        print('Validation loss {} NOT improved'.format(record_temp))\n",
    "        tol += 1\n",
    "        print('tol: {}'.format(tol))\n",
    "        if tol >= max_tol:\n",
    "            print('Early stopping')\n",
    "            sys.exit();\n",
    "        else:\n",
    "            print('Pass to the next epoch')\n",
    "            continue;\n",
    "\n",
    "    print(\"--- %s seconds ---\" % (time.time() - start_time))"
   ]
  },
  {
   "cell_type": "code",
   "execution_count": 21,
   "metadata": {},
   "outputs": [
    {
     "name": "stdout",
     "output_type": "stream",
     "text": [
      "Train on 100 samples\n",
      "100/100 [==============================] - 3s 32ms/sample - loss: 17.5093 - model_4_loss: 0.0341 - model_6_loss: 0.6042\n"
     ]
    },
    {
     "data": {
      "text/plain": [
       "<tensorflow.python.keras.callbacks.History at 0x2ab5f4d69c90>"
      ]
     },
     "execution_count": 21,
     "metadata": {},
     "output_type": "execute_result"
    }
   ],
   "source": [
    "GAN.fit(gan_in, gan_target)"
   ]
  },
  {
   "cell_type": "code",
   "execution_count": 38,
   "metadata": {},
   "outputs": [
    {
     "name": "stdout",
     "output_type": "stream",
     "text": [
      " 10/119 [=>............................] - ETA: 25s - loss: 0.1084"
     ]
    },
    {
     "ename": "KeyboardInterrupt",
     "evalue": "",
     "output_type": "error",
     "traceback": [
      "\u001b[0;31m---------------------------------------------------------------------------\u001b[0m",
      "\u001b[0;31mKeyboardInterrupt\u001b[0m                         Traceback (most recent call last)",
      "\u001b[0;32m<ipython-input-38-c4c3782f0a16>\u001b[0m in \u001b[0;36m<module>\u001b[0;34m\u001b[0m\n\u001b[0;32m----> 1\u001b[0;31m \u001b[0mmodel_mix\u001b[0m\u001b[0;34m.\u001b[0m\u001b[0mevaluate_generator\u001b[0m\u001b[0;34m(\u001b[0m\u001b[0mgen_valid1\u001b[0m\u001b[0;34m,\u001b[0m \u001b[0mverbose\u001b[0m\u001b[0;34m=\u001b[0m\u001b[0;36m1\u001b[0m\u001b[0;34m)\u001b[0m\u001b[0;34m\u001b[0m\u001b[0;34m\u001b[0m\u001b[0m\n\u001b[0m",
      "\u001b[0;32m/glade/work/ksha/anaconda3/lib/python3.7/site-packages/tensorflow_core/python/keras/engine/training.py\u001b[0m in \u001b[0;36mevaluate_generator\u001b[0;34m(self, generator, steps, callbacks, max_queue_size, workers, use_multiprocessing, verbose)\u001b[0m\n\u001b[1;32m   1362\u001b[0m         \u001b[0muse_multiprocessing\u001b[0m\u001b[0;34m=\u001b[0m\u001b[0muse_multiprocessing\u001b[0m\u001b[0;34m,\u001b[0m\u001b[0;34m\u001b[0m\u001b[0;34m\u001b[0m\u001b[0m\n\u001b[1;32m   1363\u001b[0m         \u001b[0mverbose\u001b[0m\u001b[0;34m=\u001b[0m\u001b[0mverbose\u001b[0m\u001b[0;34m,\u001b[0m\u001b[0;34m\u001b[0m\u001b[0;34m\u001b[0m\u001b[0m\n\u001b[0;32m-> 1364\u001b[0;31m         callbacks=callbacks)\n\u001b[0m\u001b[1;32m   1365\u001b[0m \u001b[0;34m\u001b[0m\u001b[0m\n\u001b[1;32m   1366\u001b[0m   def predict_generator(self,\n",
      "\u001b[0;32m/glade/work/ksha/anaconda3/lib/python3.7/site-packages/tensorflow_core/python/keras/engine/training_generator.py\u001b[0m in \u001b[0;36mmodel_iteration\u001b[0;34m(model, data, steps_per_epoch, epochs, verbose, callbacks, validation_data, validation_steps, validation_freq, class_weight, max_queue_size, workers, use_multiprocessing, shuffle, initial_epoch, mode, batch_size, steps_name, **kwargs)\u001b[0m\n\u001b[1;32m    263\u001b[0m \u001b[0;34m\u001b[0m\u001b[0m\n\u001b[1;32m    264\u001b[0m       \u001b[0mis_deferred\u001b[0m \u001b[0;34m=\u001b[0m \u001b[0;32mnot\u001b[0m \u001b[0mmodel\u001b[0m\u001b[0;34m.\u001b[0m\u001b[0m_is_compiled\u001b[0m\u001b[0;34m\u001b[0m\u001b[0;34m\u001b[0m\u001b[0m\n\u001b[0;32m--> 265\u001b[0;31m       \u001b[0mbatch_outs\u001b[0m \u001b[0;34m=\u001b[0m \u001b[0mbatch_function\u001b[0m\u001b[0;34m(\u001b[0m\u001b[0;34m*\u001b[0m\u001b[0mbatch_data\u001b[0m\u001b[0;34m)\u001b[0m\u001b[0;34m\u001b[0m\u001b[0;34m\u001b[0m\u001b[0m\n\u001b[0m\u001b[1;32m    266\u001b[0m       \u001b[0;32mif\u001b[0m \u001b[0;32mnot\u001b[0m \u001b[0misinstance\u001b[0m\u001b[0;34m(\u001b[0m\u001b[0mbatch_outs\u001b[0m\u001b[0;34m,\u001b[0m \u001b[0mlist\u001b[0m\u001b[0;34m)\u001b[0m\u001b[0;34m:\u001b[0m\u001b[0;34m\u001b[0m\u001b[0;34m\u001b[0m\u001b[0m\n\u001b[1;32m    267\u001b[0m         \u001b[0mbatch_outs\u001b[0m \u001b[0;34m=\u001b[0m \u001b[0;34m[\u001b[0m\u001b[0mbatch_outs\u001b[0m\u001b[0;34m]\u001b[0m\u001b[0;34m\u001b[0m\u001b[0;34m\u001b[0m\u001b[0m\n",
      "\u001b[0;32m/glade/work/ksha/anaconda3/lib/python3.7/site-packages/tensorflow_core/python/keras/engine/training.py\u001b[0m in \u001b[0;36mtest_on_batch\u001b[0;34m(self, x, y, sample_weight, reset_metrics)\u001b[0m\n\u001b[1;32m   1068\u001b[0m       outputs = training_v2_utils.test_on_batch(\n\u001b[1;32m   1069\u001b[0m           \u001b[0mself\u001b[0m\u001b[0;34m,\u001b[0m \u001b[0mx\u001b[0m\u001b[0;34m,\u001b[0m \u001b[0my\u001b[0m\u001b[0;34m=\u001b[0m\u001b[0my\u001b[0m\u001b[0;34m,\u001b[0m \u001b[0msample_weight\u001b[0m\u001b[0;34m=\u001b[0m\u001b[0msample_weight\u001b[0m\u001b[0;34m,\u001b[0m\u001b[0;34m\u001b[0m\u001b[0;34m\u001b[0m\u001b[0m\n\u001b[0;32m-> 1070\u001b[0;31m           reset_metrics=reset_metrics)\n\u001b[0m\u001b[1;32m   1071\u001b[0m       outputs = (outputs['total_loss'] + outputs['output_losses'] +\n\u001b[1;32m   1072\u001b[0m                  outputs['metrics'])\n",
      "\u001b[0;32m/glade/work/ksha/anaconda3/lib/python3.7/site-packages/tensorflow_core/python/keras/engine/training_v2_utils.py\u001b[0m in \u001b[0;36mtest_on_batch\u001b[0;34m(model, x, y, sample_weight, reset_metrics)\u001b[0m\n\u001b[1;32m    325\u001b[0m       \u001b[0my\u001b[0m\u001b[0;34m,\u001b[0m\u001b[0;34m\u001b[0m\u001b[0;34m\u001b[0m\u001b[0m\n\u001b[1;32m    326\u001b[0m       \u001b[0msample_weights\u001b[0m\u001b[0;34m=\u001b[0m\u001b[0msample_weights\u001b[0m\u001b[0;34m,\u001b[0m\u001b[0;34m\u001b[0m\u001b[0;34m\u001b[0m\u001b[0m\n\u001b[0;32m--> 327\u001b[0;31m       output_loss_metrics=model._output_loss_metrics)\n\u001b[0m\u001b[1;32m    328\u001b[0m \u001b[0;34m\u001b[0m\u001b[0m\n\u001b[1;32m    329\u001b[0m   \u001b[0;32mif\u001b[0m \u001b[0mreset_metrics\u001b[0m\u001b[0;34m:\u001b[0m\u001b[0;34m\u001b[0m\u001b[0;34m\u001b[0m\u001b[0m\n",
      "\u001b[0;32m/glade/work/ksha/anaconda3/lib/python3.7/site-packages/tensorflow_core/python/keras/engine/training_eager.py\u001b[0m in \u001b[0;36mtest_on_batch\u001b[0;34m(model, inputs, targets, sample_weights, output_loss_metrics)\u001b[0m\n\u001b[1;32m    352\u001b[0m             \u001b[0msample_weights\u001b[0m\u001b[0;34m=\u001b[0m\u001b[0msample_weights\u001b[0m\u001b[0;34m,\u001b[0m\u001b[0;34m\u001b[0m\u001b[0;34m\u001b[0m\u001b[0m\n\u001b[1;32m    353\u001b[0m             \u001b[0mtraining\u001b[0m\u001b[0;34m=\u001b[0m\u001b[0;32mFalse\u001b[0m\u001b[0;34m,\u001b[0m\u001b[0;34m\u001b[0m\u001b[0;34m\u001b[0m\u001b[0m\n\u001b[0;32m--> 354\u001b[0;31m             output_loss_metrics=output_loss_metrics))\n\u001b[0m\u001b[1;32m    355\u001b[0m   \u001b[0;32mif\u001b[0m \u001b[0;32mnot\u001b[0m \u001b[0misinstance\u001b[0m\u001b[0;34m(\u001b[0m\u001b[0mouts\u001b[0m\u001b[0;34m,\u001b[0m \u001b[0mlist\u001b[0m\u001b[0;34m)\u001b[0m\u001b[0;34m:\u001b[0m\u001b[0;34m\u001b[0m\u001b[0;34m\u001b[0m\u001b[0m\n\u001b[1;32m    356\u001b[0m     \u001b[0mouts\u001b[0m \u001b[0;34m=\u001b[0m \u001b[0;34m[\u001b[0m\u001b[0mouts\u001b[0m\u001b[0;34m]\u001b[0m\u001b[0;34m\u001b[0m\u001b[0;34m\u001b[0m\u001b[0m\n",
      "\u001b[0;32m/glade/work/ksha/anaconda3/lib/python3.7/site-packages/tensorflow_core/python/keras/engine/training_eager.py\u001b[0m in \u001b[0;36m_model_loss\u001b[0;34m(model, inputs, targets, output_loss_metrics, sample_weights, training)\u001b[0m\n\u001b[1;32m    125\u001b[0m     \u001b[0minputs\u001b[0m \u001b[0;34m=\u001b[0m \u001b[0mnest\u001b[0m\u001b[0;34m.\u001b[0m\u001b[0mmap_structure\u001b[0m\u001b[0;34m(\u001b[0m\u001b[0mops\u001b[0m\u001b[0;34m.\u001b[0m\u001b[0mconvert_to_tensor\u001b[0m\u001b[0;34m,\u001b[0m \u001b[0minputs\u001b[0m\u001b[0;34m)\u001b[0m\u001b[0;34m\u001b[0m\u001b[0;34m\u001b[0m\u001b[0m\n\u001b[1;32m    126\u001b[0m \u001b[0;34m\u001b[0m\u001b[0m\n\u001b[0;32m--> 127\u001b[0;31m   \u001b[0mouts\u001b[0m \u001b[0;34m=\u001b[0m \u001b[0mmodel\u001b[0m\u001b[0;34m(\u001b[0m\u001b[0minputs\u001b[0m\u001b[0;34m,\u001b[0m \u001b[0;34m**\u001b[0m\u001b[0mkwargs\u001b[0m\u001b[0;34m)\u001b[0m\u001b[0;34m\u001b[0m\u001b[0;34m\u001b[0m\u001b[0m\n\u001b[0m\u001b[1;32m    128\u001b[0m   \u001b[0mouts\u001b[0m \u001b[0;34m=\u001b[0m \u001b[0mnest\u001b[0m\u001b[0;34m.\u001b[0m\u001b[0mflatten\u001b[0m\u001b[0;34m(\u001b[0m\u001b[0mouts\u001b[0m\u001b[0;34m)\u001b[0m\u001b[0;34m\u001b[0m\u001b[0;34m\u001b[0m\u001b[0m\n\u001b[1;32m    129\u001b[0m \u001b[0;34m\u001b[0m\u001b[0m\n",
      "\u001b[0;32m/glade/work/ksha/anaconda3/lib/python3.7/site-packages/tensorflow_core/python/keras/engine/base_layer.py\u001b[0m in \u001b[0;36m__call__\u001b[0;34m(self, inputs, *args, **kwargs)\u001b[0m\n\u001b[1;32m    889\u001b[0m           with base_layer_utils.autocast_context_manager(\n\u001b[1;32m    890\u001b[0m               self._compute_dtype):\n\u001b[0;32m--> 891\u001b[0;31m             \u001b[0moutputs\u001b[0m \u001b[0;34m=\u001b[0m \u001b[0mself\u001b[0m\u001b[0;34m.\u001b[0m\u001b[0mcall\u001b[0m\u001b[0;34m(\u001b[0m\u001b[0mcast_inputs\u001b[0m\u001b[0;34m,\u001b[0m \u001b[0;34m*\u001b[0m\u001b[0margs\u001b[0m\u001b[0;34m,\u001b[0m \u001b[0;34m**\u001b[0m\u001b[0mkwargs\u001b[0m\u001b[0;34m)\u001b[0m\u001b[0;34m\u001b[0m\u001b[0;34m\u001b[0m\u001b[0m\n\u001b[0m\u001b[1;32m    892\u001b[0m           \u001b[0mself\u001b[0m\u001b[0;34m.\u001b[0m\u001b[0m_handle_activity_regularization\u001b[0m\u001b[0;34m(\u001b[0m\u001b[0minputs\u001b[0m\u001b[0;34m,\u001b[0m \u001b[0moutputs\u001b[0m\u001b[0;34m)\u001b[0m\u001b[0;34m\u001b[0m\u001b[0;34m\u001b[0m\u001b[0m\n\u001b[1;32m    893\u001b[0m           \u001b[0mself\u001b[0m\u001b[0;34m.\u001b[0m\u001b[0m_set_mask_metadata\u001b[0m\u001b[0;34m(\u001b[0m\u001b[0minputs\u001b[0m\u001b[0;34m,\u001b[0m \u001b[0moutputs\u001b[0m\u001b[0;34m,\u001b[0m \u001b[0minput_masks\u001b[0m\u001b[0;34m)\u001b[0m\u001b[0;34m\u001b[0m\u001b[0;34m\u001b[0m\u001b[0m\n",
      "\u001b[0;32m/glade/work/ksha/anaconda3/lib/python3.7/site-packages/tensorflow_core/python/keras/engine/network.py\u001b[0m in \u001b[0;36mcall\u001b[0;34m(self, inputs, training, mask)\u001b[0m\n\u001b[1;32m    706\u001b[0m     return self._run_internal_graph(\n\u001b[1;32m    707\u001b[0m         \u001b[0minputs\u001b[0m\u001b[0;34m,\u001b[0m \u001b[0mtraining\u001b[0m\u001b[0;34m=\u001b[0m\u001b[0mtraining\u001b[0m\u001b[0;34m,\u001b[0m \u001b[0mmask\u001b[0m\u001b[0;34m=\u001b[0m\u001b[0mmask\u001b[0m\u001b[0;34m,\u001b[0m\u001b[0;34m\u001b[0m\u001b[0;34m\u001b[0m\u001b[0m\n\u001b[0;32m--> 708\u001b[0;31m         convert_kwargs_to_constants=base_layer_utils.call_context().saving)\n\u001b[0m\u001b[1;32m    709\u001b[0m \u001b[0;34m\u001b[0m\u001b[0m\n\u001b[1;32m    710\u001b[0m   \u001b[0;32mdef\u001b[0m \u001b[0mcompute_output_shape\u001b[0m\u001b[0;34m(\u001b[0m\u001b[0mself\u001b[0m\u001b[0;34m,\u001b[0m \u001b[0minput_shape\u001b[0m\u001b[0;34m)\u001b[0m\u001b[0;34m:\u001b[0m\u001b[0;34m\u001b[0m\u001b[0;34m\u001b[0m\u001b[0m\n",
      "\u001b[0;32m/glade/work/ksha/anaconda3/lib/python3.7/site-packages/tensorflow_core/python/keras/engine/network.py\u001b[0m in \u001b[0;36m_run_internal_graph\u001b[0;34m(self, inputs, training, mask, convert_kwargs_to_constants)\u001b[0m\n\u001b[1;32m    858\u001b[0m \u001b[0;34m\u001b[0m\u001b[0m\n\u001b[1;32m    859\u001b[0m           \u001b[0;31m# Compute outputs.\u001b[0m\u001b[0;34m\u001b[0m\u001b[0;34m\u001b[0m\u001b[0;34m\u001b[0m\u001b[0m\n\u001b[0;32m--> 860\u001b[0;31m           \u001b[0moutput_tensors\u001b[0m \u001b[0;34m=\u001b[0m \u001b[0mlayer\u001b[0m\u001b[0;34m(\u001b[0m\u001b[0mcomputed_tensors\u001b[0m\u001b[0;34m,\u001b[0m \u001b[0;34m**\u001b[0m\u001b[0mkwargs\u001b[0m\u001b[0;34m)\u001b[0m\u001b[0;34m\u001b[0m\u001b[0;34m\u001b[0m\u001b[0m\n\u001b[0m\u001b[1;32m    861\u001b[0m \u001b[0;34m\u001b[0m\u001b[0m\n\u001b[1;32m    862\u001b[0m           \u001b[0;31m# Update tensor_dict.\u001b[0m\u001b[0;34m\u001b[0m\u001b[0;34m\u001b[0m\u001b[0;34m\u001b[0m\u001b[0m\n",
      "\u001b[0;32m/glade/work/ksha/anaconda3/lib/python3.7/site-packages/tensorflow_core/python/keras/engine/base_layer.py\u001b[0m in \u001b[0;36m__call__\u001b[0;34m(self, inputs, *args, **kwargs)\u001b[0m\n\u001b[1;32m    889\u001b[0m           with base_layer_utils.autocast_context_manager(\n\u001b[1;32m    890\u001b[0m               self._compute_dtype):\n\u001b[0;32m--> 891\u001b[0;31m             \u001b[0moutputs\u001b[0m \u001b[0;34m=\u001b[0m \u001b[0mself\u001b[0m\u001b[0;34m.\u001b[0m\u001b[0mcall\u001b[0m\u001b[0;34m(\u001b[0m\u001b[0mcast_inputs\u001b[0m\u001b[0;34m,\u001b[0m \u001b[0;34m*\u001b[0m\u001b[0margs\u001b[0m\u001b[0;34m,\u001b[0m \u001b[0;34m**\u001b[0m\u001b[0mkwargs\u001b[0m\u001b[0;34m)\u001b[0m\u001b[0;34m\u001b[0m\u001b[0;34m\u001b[0m\u001b[0m\n\u001b[0m\u001b[1;32m    892\u001b[0m           \u001b[0mself\u001b[0m\u001b[0;34m.\u001b[0m\u001b[0m_handle_activity_regularization\u001b[0m\u001b[0;34m(\u001b[0m\u001b[0minputs\u001b[0m\u001b[0;34m,\u001b[0m \u001b[0moutputs\u001b[0m\u001b[0;34m)\u001b[0m\u001b[0;34m\u001b[0m\u001b[0;34m\u001b[0m\u001b[0m\n\u001b[1;32m    893\u001b[0m           \u001b[0mself\u001b[0m\u001b[0;34m.\u001b[0m\u001b[0m_set_mask_metadata\u001b[0m\u001b[0;34m(\u001b[0m\u001b[0minputs\u001b[0m\u001b[0;34m,\u001b[0m \u001b[0moutputs\u001b[0m\u001b[0;34m,\u001b[0m \u001b[0minput_masks\u001b[0m\u001b[0;34m)\u001b[0m\u001b[0;34m\u001b[0m\u001b[0;34m\u001b[0m\u001b[0m\n",
      "\u001b[0;32m~/WORKSPACE/DL_downscaling/utils/model_utils.py\u001b[0m in \u001b[0;36mcall\u001b[0;34m(self, inputs, training)\u001b[0m\n\u001b[1;32m    482\u001b[0m         \u001b[0;32mdel\u001b[0m \u001b[0mreduction_axes\u001b[0m\u001b[0;34m[\u001b[0m\u001b[0;36m0\u001b[0m\u001b[0;34m]\u001b[0m\u001b[0;34m\u001b[0m\u001b[0;34m\u001b[0m\u001b[0m\n\u001b[1;32m    483\u001b[0m         \u001b[0mmean\u001b[0m \u001b[0;34m=\u001b[0m \u001b[0mK\u001b[0m\u001b[0;34m.\u001b[0m\u001b[0mmean\u001b[0m\u001b[0;34m(\u001b[0m\u001b[0minputs\u001b[0m\u001b[0;34m[\u001b[0m\u001b[0;36m0\u001b[0m\u001b[0;34m]\u001b[0m\u001b[0;34m,\u001b[0m \u001b[0mreduction_axes\u001b[0m\u001b[0;34m,\u001b[0m \u001b[0mkeepdims\u001b[0m\u001b[0;34m=\u001b[0m\u001b[0;32mTrue\u001b[0m\u001b[0;34m)\u001b[0m\u001b[0;34m\u001b[0m\u001b[0;34m\u001b[0m\u001b[0m\n\u001b[0;32m--> 484\u001b[0;31m         \u001b[0mstddev\u001b[0m \u001b[0;34m=\u001b[0m \u001b[0mK\u001b[0m\u001b[0;34m.\u001b[0m\u001b[0mstd\u001b[0m\u001b[0;34m(\u001b[0m\u001b[0minputs\u001b[0m\u001b[0;34m[\u001b[0m\u001b[0;36m0\u001b[0m\u001b[0;34m]\u001b[0m\u001b[0;34m,\u001b[0m \u001b[0mreduction_axes\u001b[0m\u001b[0;34m,\u001b[0m \u001b[0mkeepdims\u001b[0m\u001b[0;34m=\u001b[0m\u001b[0;32mTrue\u001b[0m\u001b[0;34m)\u001b[0m \u001b[0;34m+\u001b[0m \u001b[0mself\u001b[0m\u001b[0;34m.\u001b[0m\u001b[0mepsilon\u001b[0m\u001b[0;34m\u001b[0m\u001b[0;34m\u001b[0m\u001b[0m\n\u001b[0m\u001b[1;32m    485\u001b[0m         \u001b[0mnormed\u001b[0m \u001b[0;34m=\u001b[0m \u001b[0;34m(\u001b[0m\u001b[0minputs\u001b[0m\u001b[0;34m[\u001b[0m\u001b[0;36m0\u001b[0m\u001b[0;34m]\u001b[0m \u001b[0;34m-\u001b[0m \u001b[0mmean\u001b[0m\u001b[0;34m)\u001b[0m \u001b[0;34m/\u001b[0m \u001b[0mstddev\u001b[0m\u001b[0;34m\u001b[0m\u001b[0;34m\u001b[0m\u001b[0m\n\u001b[1;32m    486\u001b[0m \u001b[0;34m\u001b[0m\u001b[0m\n",
      "\u001b[0;32m/glade/work/ksha/anaconda3/lib/python3.7/site-packages/tensorflow_core/python/ops/math_ops.py\u001b[0m in \u001b[0;36mbinary_op_wrapper\u001b[0;34m(x, y)\u001b[0m\n\u001b[1;32m    910\u001b[0m           \u001b[0;32melse\u001b[0m\u001b[0;34m:\u001b[0m\u001b[0;34m\u001b[0m\u001b[0;34m\u001b[0m\u001b[0m\n\u001b[1;32m    911\u001b[0m             \u001b[0;32mraise\u001b[0m\u001b[0;34m\u001b[0m\u001b[0;34m\u001b[0m\u001b[0m\n\u001b[0;32m--> 912\u001b[0;31m       \u001b[0;32mreturn\u001b[0m \u001b[0mfunc\u001b[0m\u001b[0;34m(\u001b[0m\u001b[0mx\u001b[0m\u001b[0;34m,\u001b[0m \u001b[0my\u001b[0m\u001b[0;34m,\u001b[0m \u001b[0mname\u001b[0m\u001b[0;34m=\u001b[0m\u001b[0mname\u001b[0m\u001b[0;34m)\u001b[0m\u001b[0;34m\u001b[0m\u001b[0;34m\u001b[0m\u001b[0m\n\u001b[0m\u001b[1;32m    913\u001b[0m \u001b[0;34m\u001b[0m\u001b[0m\n\u001b[1;32m    914\u001b[0m   \u001b[0;32mdef\u001b[0m \u001b[0mbinary_op_wrapper_sparse\u001b[0m\u001b[0;34m(\u001b[0m\u001b[0msp_x\u001b[0m\u001b[0;34m,\u001b[0m \u001b[0my\u001b[0m\u001b[0;34m)\u001b[0m\u001b[0;34m:\u001b[0m\u001b[0;34m\u001b[0m\u001b[0;34m\u001b[0m\u001b[0m\n",
      "\u001b[0;32m/glade/work/ksha/anaconda3/lib/python3.7/site-packages/tensorflow_core/python/ops/math_ops.py\u001b[0m in \u001b[0;36m_add_dispatch\u001b[0;34m(x, y, name)\u001b[0m\n\u001b[1;32m   1195\u001b[0m       \u001b[0;32mreturn\u001b[0m \u001b[0mgen_math_ops\u001b[0m\u001b[0;34m.\u001b[0m\u001b[0madd\u001b[0m\u001b[0;34m(\u001b[0m\u001b[0mx\u001b[0m\u001b[0;34m,\u001b[0m \u001b[0my\u001b[0m\u001b[0;34m,\u001b[0m \u001b[0mname\u001b[0m\u001b[0;34m=\u001b[0m\u001b[0mname\u001b[0m\u001b[0;34m)\u001b[0m\u001b[0;34m\u001b[0m\u001b[0;34m\u001b[0m\u001b[0m\n\u001b[1;32m   1196\u001b[0m     \u001b[0;32melse\u001b[0m\u001b[0;34m:\u001b[0m\u001b[0;34m\u001b[0m\u001b[0;34m\u001b[0m\u001b[0m\n\u001b[0;32m-> 1197\u001b[0;31m       \u001b[0;32mreturn\u001b[0m \u001b[0mgen_math_ops\u001b[0m\u001b[0;34m.\u001b[0m\u001b[0madd_v2\u001b[0m\u001b[0;34m(\u001b[0m\u001b[0mx\u001b[0m\u001b[0;34m,\u001b[0m \u001b[0my\u001b[0m\u001b[0;34m,\u001b[0m \u001b[0mname\u001b[0m\u001b[0;34m=\u001b[0m\u001b[0mname\u001b[0m\u001b[0;34m)\u001b[0m\u001b[0;34m\u001b[0m\u001b[0;34m\u001b[0m\u001b[0m\n\u001b[0m\u001b[1;32m   1198\u001b[0m   \u001b[0;32melse\u001b[0m\u001b[0;34m:\u001b[0m\u001b[0;34m\u001b[0m\u001b[0;34m\u001b[0m\u001b[0m\n\u001b[1;32m   1199\u001b[0m     \u001b[0;32mreturn\u001b[0m \u001b[0mgen_math_ops\u001b[0m\u001b[0;34m.\u001b[0m\u001b[0madd\u001b[0m\u001b[0;34m(\u001b[0m\u001b[0mx\u001b[0m\u001b[0;34m,\u001b[0m \u001b[0my\u001b[0m\u001b[0;34m,\u001b[0m \u001b[0mname\u001b[0m\u001b[0;34m=\u001b[0m\u001b[0mname\u001b[0m\u001b[0;34m)\u001b[0m\u001b[0;34m\u001b[0m\u001b[0;34m\u001b[0m\u001b[0m\n",
      "\u001b[0;32m/glade/work/ksha/anaconda3/lib/python3.7/site-packages/tensorflow_core/python/ops/gen_math_ops.py\u001b[0m in \u001b[0;36madd_v2\u001b[0;34m(x, y, name)\u001b[0m\n\u001b[1;32m    531\u001b[0m       _result = _pywrap_tensorflow.TFE_Py_FastPathExecute(\n\u001b[1;32m    532\u001b[0m         \u001b[0m_ctx\u001b[0m\u001b[0;34m.\u001b[0m\u001b[0m_context_handle\u001b[0m\u001b[0;34m,\u001b[0m \u001b[0m_ctx\u001b[0m\u001b[0;34m.\u001b[0m\u001b[0m_thread_local_data\u001b[0m\u001b[0;34m.\u001b[0m\u001b[0mdevice_name\u001b[0m\u001b[0;34m,\u001b[0m \u001b[0;34m\"AddV2\"\u001b[0m\u001b[0;34m,\u001b[0m\u001b[0;34m\u001b[0m\u001b[0;34m\u001b[0m\u001b[0m\n\u001b[0;32m--> 533\u001b[0;31m         name, _ctx._post_execution_callbacks, x, y)\n\u001b[0m\u001b[1;32m    534\u001b[0m       \u001b[0;32mreturn\u001b[0m \u001b[0m_result\u001b[0m\u001b[0;34m\u001b[0m\u001b[0;34m\u001b[0m\u001b[0m\n\u001b[1;32m    535\u001b[0m     \u001b[0;32mexcept\u001b[0m \u001b[0m_core\u001b[0m\u001b[0;34m.\u001b[0m\u001b[0m_FallbackException\u001b[0m\u001b[0;34m:\u001b[0m\u001b[0;34m\u001b[0m\u001b[0;34m\u001b[0m\u001b[0m\n",
      "\u001b[0;31mKeyboardInterrupt\u001b[0m: "
     ]
    }
   ],
   "source": [
    "model_mix.evaluate_generator(gen_valid1, verbose=1)"
   ]
  },
  {
   "cell_type": "code",
   "execution_count": null,
   "metadata": {},
   "outputs": [],
   "source": []
  },
  {
   "cell_type": "code",
   "execution_count": 121,
   "metadata": {},
   "outputs": [],
   "source": [
    "# def UNET_MAP(N, input_size, latent_lev, latent_size, mapping_size, pool=True, activation='relu', noise=[0.2, 0.1]):\n",
    "#     # mapping network #1\n",
    "#     STY1 = keras.layers.Input(shape=[latent_size], name='mapping_in1')\n",
    "#     STY2 = keras.layers.Input(shape=[latent_size], name='mapping_in2')\n",
    "#     STY3 = keras.layers.Input(shape=[latent_size], name='mapping_in3')\n",
    "#     STY4 = keras.layers.Input(shape=[latent_size], name='mapping_in4')\n",
    "#     STY5 = keras.layers.Input(shape=[latent_size], name='mapping_in5')\n",
    "#     # main UNet\n",
    "#     IN3 = keras.layers.Input(input_size, name='unet_in')\n",
    "#     X_en1 = CONV_stack(IN3, N[0], kernel_size=3, stack_num=2, activation=activation, name='unet_left0')\n",
    "#     X_en2 = UNET_left(X_en1, N[1], pool=pool, activation=activation, name='unet_left1')\n",
    "#     X_en3 = UNET_left(X_en2, N[2], pool=pool, activation=activation, name='unet_left2')\n",
    "    \n",
    "#     X_de4 = UNET_left_style(X_en3, STY1, N[3], pool=pool, activation=activation, noise=noise[0], name='unet_bottom')\n",
    "#     X_de3 = UNET_right_style(X_de4, X_en3, STY2, N[2], activation=activation, noise=noise[1], name='unet_right2')\n",
    "#     X_de2 = UNET_right_style(X_de3, X_en2, STY3, N[1], activation=activation, noise=noise[1], name='unet_right1')\n",
    "#     X_de1 = UNET_right_style(X_de2, X_en1, STY4, N[0], activation=activation, noise=noise[1], name='unet_right0')\n",
    "#     # output\n",
    "#     OUT = UNET_out_style(X_de1, STY5, activation=activation, name='unet_out')\n",
    "#     OUT = keras.layers.Conv2D(1, 1, activation=keras.activations.linear, padding='same', name='unet_exit')(OUT)\n",
    "#     G_style = keras.models.Model(inputs=[STY1, STY2, STY3, STY4, STY5, IN3], outputs=[OUT])\n",
    "#     return G_style\n",
    "\n",
    "\n",
    "# IN1 = keras.layers.Input(shape=[latent_size], name='z_in1')\n",
    "# IN2 = keras.layers.Input(shape=[latent_size], name='z_in2')\n",
    "# IN3 = keras.layers.Input(input_size, name='unet_in')\n",
    "\n",
    "# style_model_base = mu.STYLE_MAP(latent_lev, latent_size, mapping_size)\n",
    "# opt_G = keras.optimizers.Adam(lr=0)\n",
    "# style_model_base.compile(loss=keras.losses.mean_squared_error, optimizer=opt_G)\n",
    "# style_model_base = mapping_network_fixer(style_model_base, model_import_dir+'STYLE_G_TMEAN_jja.hdf', trainable=False)\n",
    "\n",
    "# style_model_elev = mu.STYLE_MAP(latent_lev, latent_size, mapping_size)\n",
    "# opt_G = keras.optimizers.Adam(lr=0)\n",
    "# style_model_elev.compile(loss=keras.losses.mean_squared_error, optimizer=opt_G)\n",
    "# style_model_elev = mapping_network_fixer(style_model_elev, model_import_dir+'STYLE_G_ELEV_jja.hdf', trainable=False)\n",
    "\n",
    "# W1 = style_model_base([IN1])\n",
    "# W2 = style_model_base([IN2])\n",
    "# W_mix = keras.layers.Concatenate()([W1, W2])\n",
    "# # ----- manifold learning layers ----- #\n",
    "# W_map1 = keras.layers.Dense(latent_size)(W_mix)\n",
    "# W_map2 = keras.layers.Dense(latent_size)(W_mix)\n",
    "# W_map3 = keras.layers.Dense(latent_size)(W_mix)\n",
    "# W_map4 = keras.layers.Dense(latent_size)(W_mix)\n",
    "# W_map5 = keras.layers.Dense(latent_size)(W_mix)\n",
    "# # ------------------------------------- #\n",
    "# unet_map = UNET_MAP(N, input_size, latent_lev, latent_size, mapping_size, \n",
    "#                     pool=pool, activation=activation, noise=[False, False])\n",
    "\n",
    "# opt_G = keras.optimizers.Adam(lr=0)\n",
    "# unet_map.compile(loss=keras.losses.mean_squared_error, optimizer=opt_G)\n",
    "# unet_map = dscale_network_fixer(unet_map, model_import_dir+'STYLE_G_TMEAN_jja.hdf', trainable=False)\n",
    "# OUT = unet_map([W_map1, W_map2, W_map3, W_map4, W_map5, IN3])\n",
    "\n",
    "# model = keras.models.Model([IN1, IN2, IN3], [OUT])"
   ]
  },
  {
   "cell_type": "code",
   "execution_count": 95,
   "metadata": {},
   "outputs": [],
   "source": [
    "opt = keras.optimizers.Adam(lr=1e-5)\n",
    "model.compile(loss=keras.losses.mean_squared_error, optimizer=opt)"
   ]
  },
  {
   "cell_type": "code",
   "execution_count": 96,
   "metadata": {},
   "outputs": [
    {
     "name": "stdout",
     "output_type": "stream",
     "text": [
      "Model: \"model_18\"\n",
      "__________________________________________________________________________________________________\n",
      "Layer (type)                    Output Shape         Param #     Connected to                     \n",
      "==================================================================================================\n",
      "z_in1 (InputLayer)              [(None, 384)]        0                                            \n",
      "__________________________________________________________________________________________________\n",
      "z_in2 (InputLayer)              [(None, 384)]        0                                            \n",
      "__________________________________________________________________________________________________\n",
      "model_12 (Model)                (None, 384)          739200      z_in1[0][0]                      \n",
      "                                                                 z_in2[0][0]                      \n",
      "__________________________________________________________________________________________________\n",
      "concatenate_36 (Concatenate)    (None, 768)          0           model_12[1][0]                   \n",
      "                                                                 model_12[2][0]                   \n",
      "__________________________________________________________________________________________________\n",
      "dense (Dense)                   (None, 384)          295296      concatenate_36[0][0]             \n",
      "__________________________________________________________________________________________________\n",
      "dense_1 (Dense)                 (None, 384)          295296      concatenate_36[0][0]             \n",
      "__________________________________________________________________________________________________\n",
      "dense_2 (Dense)                 (None, 384)          295296      concatenate_36[0][0]             \n",
      "__________________________________________________________________________________________________\n",
      "dense_3 (Dense)                 (None, 384)          295296      concatenate_36[0][0]             \n",
      "__________________________________________________________________________________________________\n",
      "dense_4 (Dense)                 (None, 384)          295296      concatenate_36[0][0]             \n",
      "__________________________________________________________________________________________________\n",
      "unet_in (InputLayer)            [(None, None, None,  0                                            \n",
      "__________________________________________________________________________________________________\n",
      "model_16 (Model)                (None, None, None, 1 5148295     dense[0][0]                      \n",
      "                                                                 dense_1[0][0]                    \n",
      "                                                                 dense_2[0][0]                    \n",
      "                                                                 dense_3[0][0]                    \n",
      "                                                                 dense_4[0][0]                    \n",
      "                                                                 unet_in[0][0]                    \n",
      "==================================================================================================\n",
      "Total params: 7,363,975\n",
      "Trainable params: 1,476,480\n",
      "Non-trainable params: 5,887,495\n",
      "__________________________________________________________________________________________________\n"
     ]
    }
   ],
   "source": [
    "model.summary()"
   ]
  },
  {
   "cell_type": "code",
   "execution_count": 60,
   "metadata": {},
   "outputs": [
    {
     "name": "stdout",
     "output_type": "stream",
     "text": [
      "Model: \"model_25\"\n",
      "__________________________________________________________________________________________________\n",
      "Layer (type)                    Output Shape         Param #     Connected to                     \n",
      "==================================================================================================\n",
      "unet_in (InputLayer)            [(None, None, None,  0                                            \n",
      "__________________________________________________________________________________________________\n",
      "unet_left0_stack0_conv (Conv2D) (None, None, None, 4 1296        unet_in[0][0]                    \n",
      "__________________________________________________________________________________________________\n",
      "unet_left0_stack0_bn (BatchNorm (None, None, None, 4 192         unet_left0_stack0_conv[0][0]     \n",
      "__________________________________________________________________________________________________\n",
      "unet_left0_stack0_relu (ReLU)   (None, None, None, 4 0           unet_left0_stack0_bn[0][0]       \n",
      "__________________________________________________________________________________________________\n",
      "unet_left0_stack1_conv (Conv2D) (None, None, None, 4 20736       unet_left0_stack0_relu[0][0]     \n",
      "__________________________________________________________________________________________________\n",
      "unet_left0_stack1_bn (BatchNorm (None, None, None, 4 192         unet_left0_stack1_conv[0][0]     \n",
      "__________________________________________________________________________________________________\n",
      "unet_left0_stack1_relu (ReLU)   (None, None, None, 4 0           unet_left0_stack1_bn[0][0]       \n",
      "__________________________________________________________________________________________________\n",
      "unet_left1_stride_conv (Conv2D) (None, None, None, 9 18432       unet_left0_stack1_relu[0][0]     \n",
      "__________________________________________________________________________________________________\n",
      "unet_left1_stride_conv_bn (Batc (None, None, None, 9 384         unet_left1_stride_conv[0][0]     \n",
      "__________________________________________________________________________________________________\n",
      "unet_left1_stride_conv_relu (Re (None, None, None, 9 0           unet_left1_stride_conv_bn[0][0]  \n",
      "__________________________________________________________________________________________________\n",
      "unet_left1_stack0_conv (Conv2D) (None, None, None, 9 82944       unet_left1_stride_conv_relu[0][0]\n",
      "__________________________________________________________________________________________________\n",
      "unet_left1_stack0_bn (BatchNorm (None, None, None, 9 384         unet_left1_stack0_conv[0][0]     \n",
      "__________________________________________________________________________________________________\n",
      "unet_left1_stack0_relu (ReLU)   (None, None, None, 9 0           unet_left1_stack0_bn[0][0]       \n",
      "__________________________________________________________________________________________________\n",
      "unet_left2_stride_conv (Conv2D) (None, None, None, 1 73728       unet_left1_stack0_relu[0][0]     \n",
      "__________________________________________________________________________________________________\n",
      "unet_left2_stride_conv_bn (Batc (None, None, None, 1 768         unet_left2_stride_conv[0][0]     \n",
      "__________________________________________________________________________________________________\n",
      "unet_left2_stride_conv_relu (Re (None, None, None, 1 0           unet_left2_stride_conv_bn[0][0]  \n",
      "__________________________________________________________________________________________________\n",
      "unet_left2_stack0_conv (Conv2D) (None, None, None, 1 331776      unet_left2_stride_conv_relu[0][0]\n",
      "__________________________________________________________________________________________________\n",
      "unet_left2_stack0_bn (BatchNorm (None, None, None, 1 768         unet_left2_stack0_conv[0][0]     \n",
      "__________________________________________________________________________________________________\n",
      "unet_left2_stack0_relu (ReLU)   (None, None, None, 1 0           unet_left2_stack0_bn[0][0]       \n",
      "__________________________________________________________________________________________________\n",
      "unet_bottom_stride_conv (Conv2D (None, None, None, 3 294912      unet_left2_stack0_relu[0][0]     \n",
      "__________________________________________________________________________________________________\n",
      "unet_bottom_stride_conv_bn (Bat (None, None, None, 3 1536        unet_bottom_stride_conv[0][0]    \n",
      "__________________________________________________________________________________________________\n",
      "mapping_in1 (InputLayer)        [(None, 384)]        0                                            \n",
      "__________________________________________________________________________________________________\n",
      "unet_bottom_stride_conv_relu (R (None, None, None, 3 0           unet_bottom_stride_conv_bn[0][0] \n",
      "__________________________________________________________________________________________________\n",
      "unet_bottom_AdaIN_b (Dense)     (None, 384)          147840      mapping_in1[0][0]                \n",
      "__________________________________________________________________________________________________\n",
      "unet_bottom_AdaIN_g (Dense)     (None, 384)          147840      mapping_in1[0][0]                \n",
      "__________________________________________________________________________________________________\n",
      "unet_bottom_conv (Conv2D)       (None, None, None, 3 1327104     unet_bottom_stride_conv_relu[0][0\n",
      "__________________________________________________________________________________________________\n",
      "reshape_288 (Reshape)           (None, 1, 1, 384)    0           unet_bottom_AdaIN_b[0][0]        \n",
      "__________________________________________________________________________________________________\n",
      "reshape_289 (Reshape)           (None, 1, 1, 384)    0           unet_bottom_AdaIN_g[0][0]        \n",
      "__________________________________________________________________________________________________\n",
      "ada_in_144 (AdaIN)              (None, None, None, 3 0           unet_bottom_conv[0][0]           \n",
      "                                                                 reshape_288[0][0]                \n",
      "                                                                 reshape_289[0][0]                \n",
      "__________________________________________________________________________________________________\n",
      "unet_bottom_relu (ReLU)         (None, None, None, 3 0           ada_in_144[0][0]                 \n",
      "__________________________________________________________________________________________________\n",
      "mapping_in2 (InputLayer)        [(None, 384)]        0                                            \n",
      "__________________________________________________________________________________________________\n",
      "unet_right2_trans_conv (Conv2DT (None, None, None, 1 663744      unet_bottom_relu[0][0]           \n",
      "__________________________________________________________________________________________________\n",
      "unet_right2_AdaIN0_b (Dense)    (None, 192)          73920       mapping_in2[0][0]                \n",
      "__________________________________________________________________________________________________\n",
      "unet_right2_AdaIN0_g (Dense)    (None, 192)          73920       mapping_in2[0][0]                \n",
      "__________________________________________________________________________________________________\n",
      "unet_right2_conv0 (Conv2D)      (None, None, None, 1 331776      unet_right2_trans_conv[0][0]     \n",
      "__________________________________________________________________________________________________\n",
      "reshape_290 (Reshape)           (None, 1, 1, 192)    0           unet_right2_AdaIN0_b[0][0]       \n",
      "__________________________________________________________________________________________________\n",
      "reshape_291 (Reshape)           (None, 1, 1, 192)    0           unet_right2_AdaIN0_g[0][0]       \n",
      "__________________________________________________________________________________________________\n",
      "ada_in_145 (AdaIN)              (None, None, None, 1 0           unet_right2_conv0[0][0]          \n",
      "                                                                 reshape_290[0][0]                \n",
      "                                                                 reshape_291[0][0]                \n",
      "__________________________________________________________________________________________________\n",
      "unet_right2_relu0 (ReLU)        (None, None, None, 1 0           ada_in_145[0][0]                 \n",
      "__________________________________________________________________________________________________\n",
      "concatenate_67 (Concatenate)    (None, None, None, 3 0           unet_left2_stack0_relu[0][0]     \n",
      "                                                                 unet_right2_relu0[0][0]          \n",
      "__________________________________________________________________________________________________\n",
      "unet_right2_AdaIN1_b (Dense)    (None, 192)          73920       mapping_in2[0][0]                \n",
      "__________________________________________________________________________________________________\n",
      "unet_right2_AdaIN1_g (Dense)    (None, 192)          73920       mapping_in2[0][0]                \n",
      "__________________________________________________________________________________________________\n",
      "unet_right2_conv1 (Conv2D)      (None, None, None, 1 663552      concatenate_67[0][0]             \n",
      "__________________________________________________________________________________________________\n",
      "reshape_292 (Reshape)           (None, 1, 1, 192)    0           unet_right2_AdaIN1_b[0][0]       \n",
      "__________________________________________________________________________________________________\n",
      "reshape_293 (Reshape)           (None, 1, 1, 192)    0           unet_right2_AdaIN1_g[0][0]       \n",
      "__________________________________________________________________________________________________\n",
      "ada_in_146 (AdaIN)              (None, None, None, 1 0           unet_right2_conv1[0][0]          \n",
      "                                                                 reshape_292[0][0]                \n",
      "                                                                 reshape_293[0][0]                \n",
      "__________________________________________________________________________________________________\n",
      "unet_right2_relu1 (ReLU)        (None, None, None, 1 0           ada_in_146[0][0]                 \n",
      "__________________________________________________________________________________________________\n",
      "unet_right1_trans_conv (Conv2DT (None, None, None, 9 165984      unet_right2_relu1[0][0]          \n",
      "__________________________________________________________________________________________________\n",
      "unet_right1_AdaIN0_b (Dense)    (None, 96)           36960       mapping_in2[0][0]                \n",
      "__________________________________________________________________________________________________\n",
      "unet_right1_AdaIN0_g (Dense)    (None, 96)           36960       mapping_in2[0][0]                \n",
      "__________________________________________________________________________________________________\n",
      "unet_right1_conv0 (Conv2D)      (None, None, None, 9 82944       unet_right1_trans_conv[0][0]     \n",
      "__________________________________________________________________________________________________\n",
      "reshape_294 (Reshape)           (None, 1, 1, 96)     0           unet_right1_AdaIN0_b[0][0]       \n",
      "__________________________________________________________________________________________________\n",
      "reshape_295 (Reshape)           (None, 1, 1, 96)     0           unet_right1_AdaIN0_g[0][0]       \n",
      "__________________________________________________________________________________________________\n",
      "ada_in_147 (AdaIN)              (None, None, None, 9 0           unet_right1_conv0[0][0]          \n",
      "                                                                 reshape_294[0][0]                \n",
      "                                                                 reshape_295[0][0]                \n",
      "__________________________________________________________________________________________________\n",
      "unet_right1_relu0 (ReLU)        (None, None, None, 9 0           ada_in_147[0][0]                 \n",
      "__________________________________________________________________________________________________\n",
      "concatenate_68 (Concatenate)    (None, None, None, 1 0           unet_left1_stack0_relu[0][0]     \n",
      "                                                                 unet_right1_relu0[0][0]          \n",
      "__________________________________________________________________________________________________\n",
      "unet_right1_AdaIN1_b (Dense)    (None, 96)           36960       mapping_in2[0][0]                \n",
      "__________________________________________________________________________________________________\n",
      "unet_right1_AdaIN1_g (Dense)    (None, 96)           36960       mapping_in2[0][0]                \n",
      "__________________________________________________________________________________________________\n",
      "unet_right1_conv1 (Conv2D)      (None, None, None, 9 165888      concatenate_68[0][0]             \n",
      "__________________________________________________________________________________________________\n",
      "reshape_296 (Reshape)           (None, 1, 1, 96)     0           unet_right1_AdaIN1_b[0][0]       \n",
      "__________________________________________________________________________________________________\n",
      "reshape_297 (Reshape)           (None, 1, 1, 96)     0           unet_right1_AdaIN1_g[0][0]       \n",
      "__________________________________________________________________________________________________\n",
      "ada_in_148 (AdaIN)              (None, None, None, 9 0           unet_right1_conv1[0][0]          \n",
      "                                                                 reshape_296[0][0]                \n",
      "                                                                 reshape_297[0][0]                \n",
      "__________________________________________________________________________________________________\n",
      "unet_right1_relu1 (ReLU)        (None, None, None, 9 0           ada_in_148[0][0]                 \n",
      "__________________________________________________________________________________________________\n",
      "unet_right0_trans_conv (Conv2DT (None, None, None, 4 41520       unet_right1_relu1[0][0]          \n",
      "__________________________________________________________________________________________________\n",
      "unet_right0_AdaIN0_b (Dense)    (None, 48)           18480       mapping_in2[0][0]                \n",
      "__________________________________________________________________________________________________\n",
      "unet_right0_AdaIN0_g (Dense)    (None, 48)           18480       mapping_in2[0][0]                \n",
      "__________________________________________________________________________________________________\n",
      "unet_right0_conv0 (Conv2D)      (None, None, None, 4 20736       unet_right0_trans_conv[0][0]     \n",
      "__________________________________________________________________________________________________\n",
      "reshape_298 (Reshape)           (None, 1, 1, 48)     0           unet_right0_AdaIN0_b[0][0]       \n",
      "__________________________________________________________________________________________________\n",
      "reshape_299 (Reshape)           (None, 1, 1, 48)     0           unet_right0_AdaIN0_g[0][0]       \n",
      "__________________________________________________________________________________________________\n",
      "ada_in_149 (AdaIN)              (None, None, None, 4 0           unet_right0_conv0[0][0]          \n",
      "                                                                 reshape_298[0][0]                \n",
      "                                                                 reshape_299[0][0]                \n",
      "__________________________________________________________________________________________________\n",
      "unet_right0_relu0 (ReLU)        (None, None, None, 4 0           ada_in_149[0][0]                 \n",
      "__________________________________________________________________________________________________\n",
      "concatenate_69 (Concatenate)    (None, None, None, 9 0           unet_left0_stack1_relu[0][0]     \n",
      "                                                                 unet_right0_relu0[0][0]          \n",
      "__________________________________________________________________________________________________\n",
      "unet_right0_AdaIN1_b (Dense)    (None, 48)           18480       mapping_in2[0][0]                \n",
      "__________________________________________________________________________________________________\n",
      "unet_right0_AdaIN1_g (Dense)    (None, 48)           18480       mapping_in2[0][0]                \n",
      "__________________________________________________________________________________________________\n",
      "unet_right0_conv1 (Conv2D)      (None, None, None, 4 41472       concatenate_69[0][0]             \n",
      "__________________________________________________________________________________________________\n",
      "reshape_300 (Reshape)           (None, 1, 1, 48)     0           unet_right0_AdaIN1_b[0][0]       \n",
      "__________________________________________________________________________________________________\n",
      "reshape_301 (Reshape)           (None, 1, 1, 48)     0           unet_right0_AdaIN1_g[0][0]       \n",
      "__________________________________________________________________________________________________\n",
      "ada_in_150 (AdaIN)              (None, None, None, 4 0           unet_right0_conv1[0][0]          \n",
      "                                                                 reshape_300[0][0]                \n",
      "                                                                 reshape_301[0][0]                \n",
      "__________________________________________________________________________________________________\n",
      "unet_right0_relu1 (ReLU)        (None, None, None, 4 0           ada_in_150[0][0]                 \n",
      "__________________________________________________________________________________________________\n",
      "unet_out_AdaIN_b (Dense)        (None, 2)            770         mapping_in2[0][0]                \n",
      "__________________________________________________________________________________________________\n",
      "unet_out_AdaIN_g (Dense)        (None, 2)            770         mapping_in2[0][0]                \n",
      "__________________________________________________________________________________________________\n",
      "unet_out_conv (Conv2D)          (None, None, None, 2 864         unet_right0_relu1[0][0]          \n",
      "__________________________________________________________________________________________________\n",
      "reshape_302 (Reshape)           (None, 1, 1, 2)      0           unet_out_AdaIN_b[0][0]           \n",
      "__________________________________________________________________________________________________\n",
      "reshape_303 (Reshape)           (None, 1, 1, 2)      0           unet_out_AdaIN_g[0][0]           \n",
      "__________________________________________________________________________________________________\n",
      "ada_in_151 (AdaIN)              (None, None, None, 2 0           unet_out_conv[0][0]              \n",
      "                                                                 reshape_302[0][0]                \n",
      "                                                                 reshape_303[0][0]                \n",
      "__________________________________________________________________________________________________\n",
      "unet_out_relu (ReLU)            (None, None, None, 2 0           ada_in_151[0][0]                 \n",
      "__________________________________________________________________________________________________\n",
      "unet_exit (Conv2D)              (None, None, None, 1 3           unet_out_relu[0][0]              \n",
      "==================================================================================================\n",
      "Total params: 10,294,478\n",
      "Trainable params: 5,146,183\n",
      "Non-trainable params: 5,148,295\n",
      "__________________________________________________________________________________________________\n"
     ]
    }
   ],
   "source": [
    "model_mix.summary()"
   ]
  },
  {
   "cell_type": "code",
   "execution_count": null,
   "metadata": {},
   "outputs": [],
   "source": []
  }
 ],
 "metadata": {
  "kernelspec": {
   "display_name": "Python 3",
   "language": "python",
   "name": "python3"
  },
  "language_info": {
   "codemirror_mode": {
    "name": "ipython",
    "version": 3
   },
   "file_extension": ".py",
   "mimetype": "text/x-python",
   "name": "python",
   "nbconvert_exporter": "python",
   "pygments_lexer": "ipython3",
   "version": "3.7.6"
  }
 },
 "nbformat": 4,
 "nbformat_minor": 4
}
